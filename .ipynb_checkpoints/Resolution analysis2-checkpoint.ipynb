{
 "cells": [
  {
   "cell_type": "markdown",
   "id": "0b092cbc",
   "metadata": {},
   "source": [
    "# Initializing and functions"
   ]
  },
  {
   "cell_type": "code",
   "execution_count": 1,
   "id": "dd221063",
   "metadata": {},
   "outputs": [],
   "source": [
    "import os\n",
    "import matplotlib.pyplot as plt\n",
    "import numpy as np\n",
    "import sif_parser\n",
    "import scipy\n",
    "from scipy.signal import savgol_filter\n",
    "import lmfit\n",
    "from lmfit import Model\n",
    "import datetime\n",
    "import pandas as pd\n",
    "import csv\n",
    "import cv2\n",
    "scl=0.45\n",
    "#############################################################################\n",
    "SMALL_SIZE = 30*scl\n",
    "MEDIUM_SIZE = 33*scl\n",
    "BIGGER_SIZE = 35*scl\n",
    "plt.rc('font', size=MEDIUM_SIZE)          # controls default text sizes\n",
    "plt.rc('axes', titlesize=MEDIUM_SIZE)     # fontsize of the axes title\n",
    "plt.rc('axes', labelsize=MEDIUM_SIZE)    # fontsize of the x and y labels\n",
    "plt.rc('xtick', labelsize=MEDIUM_SIZE)    # fontsize of the tick labels\n",
    "plt.rc('ytick', labelsize=MEDIUM_SIZE)    # fontsize of the tick labels\n",
    "plt.rc('legend', fontsize=SMALL_SIZE)    # legend fontsize\n",
    "plt.rc('figure', titlesize=BIGGER_SIZE)  # fontsize of the figure title\n",
    "# plt.rcParams[\"font.family\"] = \"Times New Roman\"\n",
    "# plt.rcParams['text.usetex'] = True\n",
    "#############################################################################\n",
    "%matplotlib tk\n",
    "def logistic(x, a, b, c, d):\n",
    "        return a / (1. + np.exp(-c * (x - d))) + b\n",
    "def square(x, a, b, c):\n",
    "    return a*x**2 + b*x + c"
   ]
  },
  {
   "cell_type": "code",
   "execution_count": 2,
   "id": "14ca298a",
   "metadata": {},
   "outputs": [],
   "source": [
    "import numpy as np\n",
    "from pyhank import qdht, HankelTransform\n",
    "import matplotlib.pyplot as plt\n",
    "\n",
    "def smoothAvg(data, box_pts):\n",
    "    y = data[:,1]\n",
    "    y_smooth = smoothAvgAux(y, box_pts)\n",
    "    if box_pts == 0:\n",
    "        return np.array([data[:,0], y_smooth]).transpose()\n",
    "    else:\n",
    "        return np.array([data[:-box_pts,0], y_smooth[:-box_pts]]).transpose()\n",
    "\n",
    "def smoothAvgAux(y, box_pts):\n",
    "    if box_pts == 0:\n",
    "        return y\n",
    "    box = np.ones(box_pts)/box_pts\n",
    "    y_smooth = np.convolve(y, box, mode='same')\n",
    "    return y_smooth\n",
    "\n",
    "def lsf2psf(lsf, x, control):\n",
    "    r = np.linspace(start=0.0, stop=np.max(np.abs(x)), num=control['nr'])\n",
    "    lsf_mat = np.tile(np.abs(lsf).transpose(), [len(r), 1])\n",
    "    X, R = np.meshgrid(x, r)\n",
    "    dx = np.abs(x[2] - x[1])\n",
    "\n",
    "    integrand = - 1 / np.pi * lsf_mat * R / ( np.abs(X) * np.sqrt(X**2 - R**2 + 1e-20)) * dx\n",
    "    integrand = np.nan_to_num(integrand, nan=0) * (np.abs(X) > R)\n",
    "    integral = np.sum(integrand, axis=1)\n",
    "    psf = np.abs(np.diff(integral)[control['spare']:-control['spare']])\n",
    "\n",
    "    psf = smoothAvgAux(psf, control['blurKernelSizePSF'])[control['blurKernelSizePSF']:]\n",
    "    return psf\n",
    "\n",
    "def mtf2dqe(psf, mtf, control):\n",
    "    absorption = 0.08\n",
    "    g1 = absorption\n",
    "    g2 = np.sum(np.abs(psf))\n",
    "    g3 = 0.5\n",
    "    dqe = g1 / (1 + 1 / (g2 * g3 * np.abs(mtf / 100)**2))\n",
    "    dqe = 100 * smoothAvgAux(dqe, control['blurKernelSizeDQE'])[control['blurKernelSizeDQE']:]\n",
    "    return dqe\n",
    "\n",
    "def psf2mtf(r, psf, control):\n",
    "    \"\"\"Compute the MTF of a PSF with cylindrical symmetric using Hankel transform\"\"\"\n",
    "    H = HankelTransform(order=0, radial_grid=r)\n",
    "\n",
    "    psf_high_res = np.zeros_like(r)\n",
    "    psf_high_res[:len(psf)] = psf\n",
    "\n",
    "    ht = np.abs(H.qdht(psf_high_res))\n",
    "    ht /= (np.max(ht) + 1e-12)\n",
    "    smoothMTF = smoothAvg(np.array([H.kr, ht]).transpose(), control['blurKernelSizeMTF'])\n",
    "    smoothMTF = smoothMTF[(control['blurKernelSizeMTF'] - 0):, :]\n",
    "    smoothMTF[:, 0] -= smoothMTF[0, 0]\n",
    "    smoothMTF[:, 1] /= (smoothMTF[0, 1] + 1e-20)\n",
    "    smoothMTF[:, 1] *= 100\n",
    "    return smoothMTF\n",
    "\n",
    "def compute_image_characteristics(y, control):\n",
    "    r = control['CCD_pixel_size'] * np.arange(len(y))\n",
    "    esf = smoothAvgAux(y, control['blurKernelSize'])\n",
    "    if control['blurKernelSize'] > 0:\n",
    "        esf = esf[control['blurKernelSize']: -control['blurKernelSize']]\n",
    "    lsf = np.abs(smoothAvgAux(np.diff(esf), control['blurKernelSize']))\n",
    "\n",
    "    data = np.array([r,y]).transpose()\n",
    "    data = smoothAvg(data, control['blurKernelSize'])\n",
    "    data[:,0] -= data[0,0]\n",
    "\n",
    "    x = control['CCD_pixel_size'] * (np.arange(len(lsf)) - np.argmax(lsf))\n",
    "    psf = lsf2psf(lsf, x, control)\n",
    "\n",
    "    esf_vec = np.array([control['CCD_pixel_size'] * (np.arange(len(esf)) - np.argmax(np.abs(lsf))), esf]).transpose()\n",
    "    lsf_vec = np.array([control['CCD_pixel_size'] * (np.arange(len(lsf)) - np.argmax(np.abs(lsf))), lsf]).transpose()\n",
    "    psf_vec = np.array([control['CCD_pixel_size'] * np.arange(len(psf)), psf]).transpose()\n",
    "\n",
    "    mtf_vec = psf2mtf(psf_vec[:, 0], psf_vec[:, 1], control)\n",
    "    dqe_vec = np.array([mtf_vec[:-control['blurKernelSizeDQE'], 0], mtf2dqe(psf_vec[:, 1], mtf_vec[:, 1], control)]).transpose()\n",
    "\n",
    "    return data, esf_vec, lsf_vec, psf_vec, mtf_vec, dqe_vec\n",
    "\n",
    "def plot_image_characteristics(esf, lsf, psf, mtf, dqe, control):\n",
    "    fig, ax = plt.subplots(1, 4)\n",
    "    # Plot the three lines on the same axes\n",
    "    ax[0].plot(esf[:, 0], esf[:, 1], label='esf')\n",
    "    ax[1].plot(psf[:, 0], psf[:, 1], label='psf')\n",
    "    ax[2].plot(mtf[:, 0], mtf[:, 1], label='mtf')\n",
    "    ax[2].axhline(3, color='r')\n",
    "    ax[3].plot(dqe[:, 0], dqe[:, 1], label='dqe')\n",
    "    ax[2].set_yscale('log')\n",
    "    ax[3].set_yscale('log')\n",
    "    ax[0].legend()\n",
    "    ax[1].legend()\n",
    "    ax[2].legend()\n",
    "    ax[3].legend()\n",
    "    plt.show()\n",
    "\n",
    "def find_closest(array, value):\n",
    "    array = np.asarray(array)\n",
    "    idx = (np.abs(array - value)).argmin()\n",
    "    \n",
    "    return idx\n",
    "\n",
    "def get_resolution(mtf, threshold=0.1):\n",
    "    return mtf[find_closest(mtf[:,1], threshold),0]\n",
    "\n",
    "\"\"\"\n",
    "Here start the main module of the script\n",
    "First, we define the control, which contains some general parameters\n",
    "Then we extract the image characteristics\n",
    "\"\"\"\n",
    "\n",
    "control = {\n",
    "           'CCD_pixel_size': 13e-3,  # in [mm]\n",
    "           'blurKernelSize': 15,\n",
    "           'blurKernelSizePSF': 15,\n",
    "           'blurKernelSizeMTF': 20,\n",
    "           'blurKernelSizeDQE': 2,\n",
    "           'spare': 1,\n",
    "           'nr': 200,\n",
    "           }\n",
    "\n",
    "# plt.ion()\n",
    "# a = 1\n",
    "# c = 1\n",
    "# x = np.linspace(-10, 10, 200)\n",
    "# esf_signal = a / (1 + c * np.exp(-x))\n",
    "# data, esf, lsf, psf, mtf, dqe = compute_image_characteristics(esf_signal, control)\n",
    "# plot_image_characteristics(esf, lsf, psf, mtf, dqe, control)\n",
    "# print()"
   ]
  },
  {
   "cell_type": "code",
   "execution_count": 3,
   "id": "70354fee",
   "metadata": {},
   "outputs": [],
   "source": [
    "os.chdir('../')"
   ]
  },
  {
   "cell_type": "markdown",
   "id": "c6a623dc",
   "metadata": {},
   "source": [
    "# Reference signal substraction\n",
    "## Image is the reference - signal"
   ]
  },
  {
   "cell_type": "code",
   "execution_count": 4,
   "id": "2f5ae65b",
   "metadata": {},
   "outputs": [],
   "source": [
    "plt.close()\n",
    "\n",
    "tck = '10'\n",
    "if os.getcwd().split('\\\\')[-1] == 'Analysis notebook':\n",
    "    os.chdir('../')\n",
    "folder = '31-28.10 backround removing/Mask-100um/'\n",
    "# folder = '31-28.10 backround removing/Different_stopping/'+tck\n",
    "# folder = '05.12.2023 - Cu source/'\n",
    "os.chdir(folder+tck)\n",
    "\n",
    "s = 'sig.asc' # mask-100um is '.asc' and mask-400um is '.txt'\n",
    "r = 'ref.asc'\n",
    "with open(s, 'r') as the_file:\n",
    "    for line in the_file:\n",
    "        if line.startswith('564.67523'):\n",
    "            break\n",
    "    for each_line in the_file:    \n",
    "        N = np.array([each_line.split(\",\") for each_line in the_file])\n",
    "sig = N[:,1:-1]\n",
    "sig = np.asfarray(sig)\n",
    "with open(r, 'r') as the_file:\n",
    "    for line in the_file:\n",
    "        if line.startswith('564.67523'):\n",
    "            break\n",
    "    for each_line in the_file:    \n",
    "        N = np.array([each_line.split(\",\") for each_line in the_file])\n",
    "ref = N[:,1:-1]\n",
    "ref = np.asfarray(ref)\n",
    "im = np.true_divide(sig,ref)\n",
    "# sig[sig > 5*np.std(sig)] = np.std(sig)\n",
    "image = np.rot90(im, k=-1) #dark side should be to the left, if not change k switch 1 to -1\n",
    "if tck == '3.6_um':\n",
    "    image[852,429] = 0.5\n",
    "plt.imshow(image)#, cmap='gray')\n",
    "plt.title('Sample: uniform {}um'.format(tck))\n",
    "plt.savefig(tck+'.png')\n",
    "plt.show()\n",
    "os.chdir('../../../')"
   ]
  },
  {
   "cell_type": "markdown",
   "id": "c3a651f5",
   "metadata": {},
   "source": [
    "# Image aligning and slicing\n",
    "## binary\n",
    "is a binary mask to difrenciate between the covered and the uncovered area\n",
    "## rotated\n",
    "is the binary mask where the line between the cover and uncover is rotated to aligned with y axis\n",
    "## roi\n",
    "is the ROI where step function will be fitted to avoid overfitting and picture artefacts"
   ]
  },
  {
   "cell_type": "code",
   "execution_count": 5,
   "id": "841baa10",
   "metadata": {},
   "outputs": [
    {
     "name": "stdout",
     "output_type": "stream",
     "text": [
      "0.1285900639753242\n"
     ]
    }
   ],
   "source": [
    "plt.close()\n",
    "def first_nonzero(arr, axis, invalid_val=-1): #Find first non-zero value in every column of a 2d array\n",
    "    mask = arr>1e-6\n",
    "    return np.where(mask.any(axis=axis), mask.argmax(axis=axis), invalid_val)\n",
    "def line(x, slope, intercept):\n",
    "    return slope*x + intercept\n",
    "plt.subplot(221)\n",
    "plt.imshow(image, cmap='gray')\n",
    "binary = np.zeros(np.shape(image))\n",
    "binary[image>3*np.std(image)] = 255 # if doesn't work use 1.5 instead of 2.5\n",
    "binary = scipy.ndimage.median_filter(binary,size=(25,25))\n",
    "plt.subplot(222)\n",
    "plt.imshow(binary, cmap='gray')\n",
    "vec = first_nonzero(binary[:,100:-100], axis=1, invalid_val=-1)\n",
    "x = np.linspace(0,len(vec)-1,len(vec))\n",
    "gmodel = Model(line)\n",
    "result = gmodel.fit(vec, x=x, slope=((vec[-1]-vec[1])/(x[-1]-x[1])), intercept=vec[1])\n",
    "theta = np.arctan(result.params['slope'].value)*180/np.pi\n",
    "plt.subplot(223)\n",
    "rotated = scipy.ndimage.rotate(binary, -theta)\n",
    "plt.imshow(rotated, cmap='gray')\n",
    "mid = int(np.average(first_nonzero(rotated[50:-50,:], axis=1, invalid_val=-1)))+20# Add 115 to sample 7.5, Add 10 to Hybrid, add 15 to all 400um \n",
    "roi = rotated[100:-100,mid-100:mid+100]\n",
    "plt.subplot(224)\n",
    "plt.imshow(roi, cmap='gray')\n",
    "plt.show()\n",
    "print(theta)"
   ]
  },
  {
   "cell_type": "markdown",
   "id": "7a4da43d",
   "metadata": {},
   "source": [
    "# Fitting "
   ]
  },
  {
   "cell_type": "code",
   "execution_count": 6,
   "id": "19860318",
   "metadata": {},
   "outputs": [],
   "source": [
    "plt.close()\n",
    "watch=False\n",
    "image2 = scipy.ndimage.rotate(image, -theta)\n",
    "image2 = image2[100:-100,mid-165:mid+165]\n",
    "image3 = np.zeros((np.shape(image2)[0], np.shape(image2)[1]-130)) # This is the image where the lines aligned according to the center of the st\n",
    "n = np.shape(image2)[0]\n",
    "slope = np.zeros(n)\n",
    "p2p = np.zeros(n)\n",
    "pixel = np.linspace(0,n-1,n)\n",
    "for i in range(n):\n",
    "    y = image2[i,:]\n",
    "    x = np.linspace(0,len(y)-1,len(y))\n",
    "    gmodel = Model(logistic)\n",
    "    result = gmodel.fit(y, x=x, a=0.5, c = .1, d=100, b=0.2)\n",
    "    slope[i] = result.params['c'].value\n",
    "    p2p[i] = result.params['a'].value\n",
    "    # print('i = {}, c={:.3f}'.format(i,result.params['c'].value,np.std(y)))\n",
    "    if watch:\n",
    "#         if n%30==0:\n",
    "        plt.plot(x, y,alpha=0.5)\n",
    "        plt.plot(x, result.best_fit, label='best fit')\n",
    "        plt.show(block=False)\n",
    "        plt.pause(0.05)\n",
    "        plt.close()\n",
    "#         break\n",
    "    cen = int(result.params['d'].value)\n",
    "    image3[i,:] = y[cen-100:cen+100]\n"
   ]
  },
  {
   "cell_type": "markdown",
   "id": "d2e150eb",
   "metadata": {},
   "source": [
    "# Summing over pixels"
   ]
  },
  {
   "cell_type": "code",
   "execution_count": 7,
   "id": "94f059cb",
   "metadata": {},
   "outputs": [
    {
     "name": "stdout",
     "output_type": "stream",
     "text": [
      "C:\\Users\\orrbeer\\OneDrive - Technion\\My files\\Shared lab data\\Group members DATA\\Orr\\Layers structure\\x-ray measurements\\EJ296\n"
     ]
    }
   ],
   "source": [
    "print(os.getcwd())\n",
    "plt.subplot(121)\n",
    "plt.imshow(image3, aspect='auto')\n",
    "plt.subplot(122)\n",
    "slices = 20\n",
    "image4 = np.zeros((slices, np.shape(image3)[1]))\n",
    "for i in range(slices):\n",
    "    one = int(len(image3[:,i])/slices)*i\n",
    "    two = int(len(image3[:,i])/slices)*(i+1)\n",
    "    image4[i,:] = (sum(image3[one:two,:])) \n",
    "plt.imshow(image4, aspect='auto')\n",
    "# plt.tight_layout()\n",
    "# # slope[slope>(np.average(slope)+3.5*np.std(slope))]=np.average(slope)\n",
    "# plt.savefig(folder + '/roi'+tck+'av_over50.png')\n",
    "plt.show()"
   ]
  },
  {
   "cell_type": "markdown",
   "id": "9fd022df",
   "metadata": {},
   "source": [
    "# Fitting over summed figure"
   ]
  },
  {
   "cell_type": "code",
   "execution_count": 8,
   "id": "11cc6fe2",
   "metadata": {},
   "outputs": [],
   "source": [
    "\n",
    "def erfunc(x, mFL, a, b, c):\n",
    "    return mFL*scipy.special.erf((x-a)/(b*np.sqrt(2)))+c\n",
    "watch = True\n",
    "n2 = np.shape(image4)[0]\n",
    "resolution2 = np.zeros(n2)\n",
    "slope2 = np.zeros(n2)\n",
    "slope2std = np.zeros(n2)\n",
    "p2p2 = np.zeros(n2)\n",
    "pixel2 = np.linspace(0,n2-1,n2)\n",
    "\n",
    "control = {\n",
    "               'CCD_pixel_size': 13e-3,  # in [mm]\n",
    "               'blurKernelSize': 15,\n",
    "               'blurKernelSizePSF': 1,\n",
    "               'blurKernelSizeMTF': 20,\n",
    "               'blurKernelSizeDQE': 2,\n",
    "               'spare': 1,\n",
    "               'nr': n2,\n",
    "               }\n",
    "for i in range(n2):\n",
    "    y = image4[i,:]\n",
    "    x = np.linspace(0,len(y)-1,len(y))\n",
    "    gmodel = Model(erfunc)\n",
    "#     result = gmodel.fit(y, x=x, mFL=10, a=100, b = 5, c=30)\n",
    "    gmodel = Model(logistic)\n",
    "    result = gmodel.fit(y, x=x, a=0.5, c = .1, d=100, b=0.2)\n",
    "    slope2[i] = abs(result.params['b'].value)\n",
    "    slope2std[i] =result.params['b'].stderr\n",
    "    p2p2[i] = abs(result.params['a'].value)\n",
    "#     print('i = {}, c={:.3f}'.format(i,result.params['c'].value,np.std(y)))\n",
    "    if watch:\n",
    "        plt.plot(x, y,alpha=0.5)\n",
    "        plt.plot(x, result.best_fit, label='best fit')\n",
    "        plt.show(block=False)\n",
    "        plt.pause(0.05)\n",
    "        plt.close()\n",
    "#     esf_signal = y # [i+400] # \n",
    "#     data, esf, lsf, psf, mtf, dqe = compute_image_characteristics(esf_signal, control)\n",
    "#     resolution2[i] = get_resolution(mtf)\n",
    "#     print(result.fit_report())\n",
    "fig, ax1 = plt.subplots()\n",
    "\n",
    "sq_size = 200\n",
    "center =int(11*np.shape(image3)[0]/slices)\n",
    "amp = ref[mid-sq_size:mid+sq_size, center-sq_size:center+sq_size]\n",
    "resolution = resolution2[np.argmax(slope2)]\n",
    "plt.figure()\n",
    "plt.subplot(311)\n",
    "plt.title('Resolution @ contrast peak={:.0f} \\nAmp={:.0f}+/-{:.0f} \\nstd={:.3f}+/-{:.3f}'.format\n",
    "          (resolution, np.average(amp), np.std(amp),np.min(slope2),slope2std[np.argmax(slope2)]))#,np.average(resolution),np.std(resolution)))\n",
    "plt.plot(pixel2, p2p2, '--or', alpha=0.7)\n",
    "plt.xlabel('Pixel')\n",
    "plt.ylabel('Contrast', color='r')\n",
    "plt.subplot(312)\n",
    "plt.plot(pixel2, slope2, '--og', alpha=0.7)\n",
    "plt.xlabel('Pixel')\n",
    "plt.ylabel('Slope', color='g')\n",
    "plt.subplot(313)\n",
    "plt.ylabel('Resolution', color='k')\n",
    "plt.xlabel('Pixel')\n",
    "plt.plot(pixel2, resolution2, '--ok', alpha=0.7)\n",
    "plt.savefig(folder+'/fitting_params_'+tck+'av_over50.png')\n"
   ]
  },
  {
   "cell_type": "code",
   "execution_count": 9,
   "id": "f391efc5",
   "metadata": {},
   "outputs": [
    {
     "data": {
      "text/plain": [
       "[<matplotlib.lines.Line2D at 0x133593e8a48>]"
      ]
     },
     "execution_count": 9,
     "metadata": {},
     "output_type": "execute_result"
    }
   ],
   "source": [
    "plt.figure()\n",
    "plt.subplot(311)\n",
    "plt.title('Resolution @ contrast peak={:.0f} \\nAmp={:.0f}+/-{:.0f} \\nstd={:.3f}+/-{:.3f}'.format\n",
    "          (resolution, np.average(amp), np.std(amp),np.min(slope2),slope2std[np.argmax(slope2)]))#,np.average(resolution),np.std(resolution)))\n",
    "plt.plot(pixel2, p2p2, '--or', alpha=0.7)\n",
    "plt.xlabel('Pixel')\n",
    "plt.ylabel('Contrast', color='r')\n",
    "plt.subplot(312)\n",
    "plt.plot(pixel2, slope2, '--og', alpha=0.7)\n",
    "plt.xlabel('Pixel')\n",
    "plt.ylabel('Slope', color='g')\n",
    "plt.subplot(313)\n",
    "plt.ylabel('Resolution', color='k')\n",
    "plt.xlabel('Pixel')\n",
    "plt.plot(pixel2, resolution2, '--ok', alpha=0.7)\n",
    "# plt.savefig(folder+'/fitting_params_'+tck+'av_over50.png')\n"
   ]
  },
  {
   "cell_type": "code",
   "execution_count": 10,
   "id": "5a90984a",
   "metadata": {},
   "outputs": [
    {
     "data": {
      "text/plain": [
       "Text(1.472222222222216, 0.5, 'Counts')"
      ]
     },
     "execution_count": 10,
     "metadata": {},
     "output_type": "execute_result"
    }
   ],
   "source": [
    "plt.close()\n",
    "y = image4[np.argmax(slope2),:]\n",
    "x = np.linspace(0,len(y)-1,len(y))\n",
    "gmodel = Model(logistic)\n",
    "result = gmodel.fit(y, x=x, a=0.5, c = .1, d=100, b=0.2)\n",
    "# slope2[i] = abs(result.params['c'].value)\n",
    "# slope2std[i] =result.params['c'].stderr\n",
    "# p2p2[i] = abs(result.params['a'].value)\n",
    "#     print('i = {}, c={:.3f}'.format(i,result.params['c'].value,np.std(y)))\n",
    "# if watch:\n",
    "#         if n%30==0:\n",
    "plt.plot(x, y,'.',markersize=10, alpha=0.7)\n",
    "plt.plot(x, result.best_fit,'k--', label='best fit',alpha=0.8)\n",
    "\n",
    "# plt.axis([0,200,18,41])\n",
    "plt.legend(['data','fit'])\n",
    "plt.xlabel('Pixel')\n",
    "plt.ylabel('Counts')\n"
   ]
  },
  {
   "cell_type": "code",
   "execution_count": null,
   "id": "e95db2cc",
   "metadata": {},
   "outputs": [],
   "source": []
  },
  {
   "cell_type": "code",
   "execution_count": 11,
   "id": "8f8de136",
   "metadata": {},
   "outputs": [],
   "source": [
    "# np.savetxt('some_BS_name.txt', ([x,y]))"
   ]
  },
  {
   "cell_type": "code",
   "execution_count": 12,
   "id": "2998d003",
   "metadata": {},
   "outputs": [],
   "source": [
    "plt.imshow(ref)\n",
    "sq_size = 200\n",
    "\n",
    "plt.plot(mid,center,'ro')\n",
    "plt.plot([mid-sq_size,mid-sq_size],[center-sq_size,center+sq_size],'r--')\n",
    "plt.plot([mid+sq_size,mid+sq_size],[center-sq_size,center+sq_size],'r--')\n",
    "plt.plot([mid-sq_size,mid+sq_size],[center+sq_size,center+sq_size],'r--')\n",
    "plt.plot([mid-sq_size,mid+sq_size],[center-sq_size,center-sq_size],'r--')\n",
    "plt.figure()\n",
    "plt.imshow(ref[center-sq_size:center+sq_size,mid-sq_size:mid+sq_size])\n",
    "# plt.plot(mid,center,'ro')\n",
    "plt.show()"
   ]
  },
  {
   "cell_type": "markdown",
   "id": "9d8d8ecb",
   "metadata": {},
   "source": [
    "# Figure for paper"
   ]
  },
  {
   "cell_type": "code",
   "execution_count": 5,
   "id": "990990e4",
   "metadata": {},
   "outputs": [],
   "source": [
    "plt.close()\n",
    "bottom, top, left, right = (530, 670, 505, 605)\n",
    "tck = ['hybrid','10','6.2']\n",
    "for i in range(3):\n",
    "    if os.getcwd().split('\\\\')[-1] == 'Analysis notebook':\n",
    "        os.chdir('../')\n",
    "    folder = '31-28.10 backround removing/Mask-100um/'\n",
    "    os.chdir(folder+tck[i])\n",
    "    data = ['sig.asc', 'ref.asc']\n",
    "    for j in range(2):\n",
    "        with open(data[j], 'r') as the_file:\n",
    "            for line in the_file:\n",
    "                if line.startswith('564.67523'):\n",
    "                    break\n",
    "            for each_line in the_file:    \n",
    "                N = np.array([each_line.split(\",\") for each_line in the_file])\n",
    "        \n",
    "        if j==0:\n",
    "            sig = N[:,1:-1]\n",
    "            sig = np.asfarray(sig)\n",
    "        if j==1:\n",
    "            ref = N[:,1:-1]\n",
    "            ref = np.asfarray(ref)\n",
    "    os.chdir('../../../')\n",
    "    os.getcwd()\n",
    "    im = np.true_divide(sig,ref)\n",
    "    image = np.rot90(im, k=-1) #dark side should be to the left, if not change k switch 1 to -1\n",
    "    plt.subplot(1,3,i+1)\n",
    "    plt.tick_params(left = False, right = False , labelleft = False, \n",
    "                labelbottom = False, bottom = False) \n",
    "    if i == 0:\n",
    "        image = scipy.ndimage.rotate(image, -5)\n",
    "        plt.imshow(image[bottom:top,left+25:right+25])#, cmap='gray')\n",
    "    if i == 1:\n",
    "        plt.imshow(image[bottom:top,left-65:right-65])\n",
    "    if i == 2:\n",
    "        plt.imshow(image[bottom:top,left:right])\n",
    "    \n",
    "\n",
    "plt.show()"
   ]
  },
  {
   "cell_type": "code",
   "execution_count": 14,
   "id": "f369cdfb",
   "metadata": {},
   "outputs": [
    {
     "name": "stdout",
     "output_type": "stream",
     "text": [
      "505\n"
     ]
    }
   ],
   "source": [
    "\n",
    "# os.chdir('../')\n",
    "os.getcwd()\n",
    "print(left)\n",
    "plt.close()"
   ]
  },
  {
   "cell_type": "code",
   "execution_count": 44,
   "id": "12e8987f",
   "metadata": {},
   "outputs": [
    {
     "name": "stdout",
     "output_type": "stream",
     "text": [
      "0.7455356085390913\n",
      "0.7215262989368019\n",
      "0.7744126443100439\n"
     ]
    },
    {
     "data": {
      "text/plain": [
       "Text(0, 0.5, 'Counts')"
      ]
     },
     "execution_count": 44,
     "metadata": {},
     "output_type": "execute_result"
    }
   ],
   "source": [
    "plt.close()\n",
    " \n",
    "fig, ax1 = plt.subplots(figsize=(5,4.2))\n",
    "\n",
    "left, bottom, width, height = [0.34, 0.29, 0.52, 0.56]\n",
    "ax2 = fig.add_axes([left, bottom, width, height])\n",
    "\n",
    "# ax1.plot(range(10), color='red')\n",
    "ax2.plot(range(6)[::-1], color='green')\n",
    "\n",
    "plt.show()\n",
    "files = ['hyb_ESF_20_slicemax_mask_100_um','10_um_ESF_20_slicemax_mask_100_um','6.2_um_ESF_20_slicemax_mask_100_um']\n",
    "for i in range(3):\n",
    "    data = np.loadtxt(files[i]+'.txt')\n",
    "    if i == 0:\n",
    "        lbl = 'Hybrid'\n",
    "        clr = 'black'\n",
    "        y0 = 20.37\n",
    "        x0 = 0.417\n",
    "    elif i ==1:\n",
    "        lbl = '10 um \\nuniform'\n",
    "        clr = 'blue'\n",
    "        y0=18.2#18.7\n",
    "        x0 = 0.626\n",
    "    elif i ==2:\n",
    "        lbl = '6.2 um \\nuniform'\n",
    "        clr = 'green'\n",
    "        y0 = 19.2\n",
    "        x0 = 0.480\n",
    "    x = data[0]-x0\n",
    "    y = (data[1])-y0\n",
    "    xaxis = [50,150]\n",
    "    gmodel = Model(logistic)\n",
    "    result = gmodel.fit(y[(x>xaxis[0]) & (x<xaxis[1])], x=x[(x>xaxis[0]) & (x<xaxis[1])], a=5, c = .1, d=100, b=0.2)\n",
    "#     result = gmodel.fit(y[(x>79) & (x<121)], x=x[(x>79) & (x<121)], mFL=10, a=100, b = 5, c=0)\n",
    "#     gmodel = Model(logistic)\n",
    "    print(result.params['b'].value)\n",
    "    ax2.plot(x[(x>xaxis[0]) & (x<xaxis[1])], y[(x>xaxis[0]) & (x<xaxis[1])],'.',markersize=5, color = clr, label=lbl)\n",
    "    ax2.plot(x[(x>xaxis[0]) & (x<xaxis[1])], result.best_fit,'--',linewidth=1,color = clr)#, label='best fit')\n",
    "    ax2.set_xlim([92,115])\n",
    "    ax2.set_ylim([0,18])\n",
    "    ax2.legend()\n",
    "#     print(result.fit_report())\n",
    "ax2.set_xlabel('Pixel')\n",
    "ax2.set_ylabel('Counts')\n",
    "    "
   ]
  },
  {
   "cell_type": "code",
   "execution_count": 45,
   "id": "09553749",
   "metadata": {
    "scrolled": true
   },
   "outputs": [
    {
     "name": "stdout",
     "output_type": "stream",
     "text": [
      "0\n",
      "1\n",
      "2\n"
     ]
    },
    {
     "name": "stderr",
     "output_type": "stream",
     "text": [
      "C:\\Users\\orrbeer\\Anaconda3\\lib\\site-packages\\ipykernel_launcher.py:26: RuntimeWarning: invalid value encountered in sqrt\n",
      "C:\\Users\\orrbeer\\Anaconda3\\lib\\site-packages\\ipykernel_launcher.py:26: RuntimeWarning: invalid value encountered in true_divide\n"
     ]
    }
   ],
   "source": [
    "\n",
    "def running_mean(x, N):\n",
    "    cumsum = np.cumsum(np.insert(x, 0, 0)) \n",
    "    return (cumsum[N:] - cumsum[:-N]) / float(N)\n",
    "files = ['hyb_ESF_20_slicemax_mask_100_um','10_ESF_6_slice10_mask_100_um','6.2_um_ESF_20_slicemax_mask_100_um']\n",
    "for i in range(3):\n",
    "    data = np.loadtxt(files[i]+'.txt')\n",
    "    if i == 0:\n",
    "        lbl = 'Hybrid'\n",
    "        clr = 'black'\n",
    "        y0 = 20.37\n",
    "        x0 = 0.417\n",
    "    elif i ==1:\n",
    "        lbl = '10 um \\nuniform'\n",
    "        clr = 'blue'\n",
    "        y0=18.5\n",
    "        x0 = 0.6266\n",
    "    elif i ==2:\n",
    "        lbl = '6.2 um \\nuniform'\n",
    "        clr = 'green'\n",
    "        y0 = 19.28\n",
    "        x0 = 0.480\n",
    "    x = data[0]\n",
    "    y = (data[1])\n",
    "    control = {\n",
    "           'CCD_pixel_size': 13e-3,  # in [mm]\n",
    "           'blurKernelSize': 1,\n",
    "           'blurKernelSizePSF': 1,\n",
    "           'blurKernelSizeMTF': 1,\n",
    "           'blurKernelSizeDQE': 1,\n",
    "           'spare': 1,\n",
    "           'nr': 200,\n",
    "           }\n",
    "    data = np.loadtxt(files[i]+'.txt')\n",
    "    y = savgol_filter(data[1],15,6)\n",
    "    data, esf, lsf, psf, mtf, dqe = compute_image_characteristics(y, control)\n",
    "    ax1.plot(mtf[:,0],mtf[:,1]/max(mtf[:,1]),color = clr, alpha=0.7, label=lbl)\n",
    "    ax1.set_ylim([0,1.05])\n",
    "    ax1.set_xlim([0,200])\n",
    "    ax1.set_xlabel('Lines/pixel')\n",
    "    ax1.set_ylabel('Norm MTF')\n",
    "    ax1.set_xticks([0, 50, 100, 150, 200])\n",
    "    print(i)\n",
    "# plt.tight_layout()\n",
    "plt.show()\n"
   ]
  },
  {
   "cell_type": "code",
   "execution_count": null,
   "id": "85312f70",
   "metadata": {},
   "outputs": [],
   "source": []
  },
  {
   "cell_type": "code",
   "execution_count": 46,
   "id": "b1269677",
   "metadata": {},
   "outputs": [
    {
     "name": "stderr",
     "output_type": "stream",
     "text": [
      "Exception in Tkinter callback\n",
      "Traceback (most recent call last):\n",
      "  File \"C:\\Users\\orrbeer\\Anaconda3\\lib\\tkinter\\__init__.py\", line 1705, in __call__\n",
      "    return self.func(*args)\n",
      "  File \"C:\\Users\\orrbeer\\Anaconda3\\lib\\tkinter\\__init__.py\", line 749, in callit\n",
      "    func(*args)\n",
      "  File \"C:\\Users\\orrbeer\\Anaconda3\\lib\\site-packages\\matplotlib\\backends\\_backend_tk.py\", line 503, in delayed_destroy\n",
      "    self.window.destroy()\n",
      "  File \"C:\\Users\\orrbeer\\Anaconda3\\lib\\tkinter\\__init__.py\", line 2062, in destroy\n",
      "    self.tk.call('destroy', self._w)\n",
      "_tkinter.TclError: can't invoke \"destroy\" command: application has been destroyed\n",
      "Exception in Tkinter callback\n",
      "Traceback (most recent call last):\n",
      "  File \"C:\\Users\\orrbeer\\Anaconda3\\lib\\tkinter\\__init__.py\", line 1705, in __call__\n",
      "    return self.func(*args)\n",
      "  File \"C:\\Users\\orrbeer\\Anaconda3\\lib\\tkinter\\__init__.py\", line 749, in callit\n",
      "    func(*args)\n",
      "  File \"C:\\Users\\orrbeer\\Anaconda3\\lib\\site-packages\\matplotlib\\backends\\_backend_tk.py\", line 503, in delayed_destroy\n",
      "    self.window.destroy()\n",
      "  File \"C:\\Users\\orrbeer\\Anaconda3\\lib\\tkinter\\__init__.py\", line 2062, in destroy\n",
      "    self.tk.call('destroy', self._w)\n",
      "_tkinter.TclError: can't invoke \"destroy\" command: application has been destroyed\n"
     ]
    }
   ],
   "source": [
    "# plt.plot()\n",
    "# plt.axis([0.01,10,1,2])\n",
    "# plt.xscale('log')\n",
    "# plt.ylabel('Intensity')\n",
    "# plt.xlabel('stopping layer thickness (um)')\n",
    "# plt.show()\n"
   ]
  },
  {
   "cell_type": "code",
   "execution_count": null,
   "id": "e0771352",
   "metadata": {},
   "outputs": [],
   "source": [
    "# plt.close()\n",
    "plt.figure()\n",
    "from lmfit.models import GaussianModel\n",
    "import PIL\n",
    "mFL = [8.81, 8.18, 7.75]\n",
    "a   = [100.01, 100.04, 100.02]\n",
    "b   = [3.81, 4.86, 3.44] \n",
    "c   = [8.83, 8.23, 7.77]\n",
    "zeva = ['k','b','g']\n",
    "\n",
    "## This block prove that b = sigma of \n",
    "# x = np.linspace(75,125,200)\n",
    "# for i in range(3):\n",
    "#     plt.plot(x, erfunc(x,mFL[i],a[i],b[i],c[i]),color=zeva[i])\n",
    "#     y = np.gradient(erfunc(x,mFL[i],a[i],b[i],c[i]))/np.gradient(x)\n",
    "#     plt.plot(x,y,'--',color=zeva[i])\n",
    "#     mod = GaussianModel()\n",
    "#     pars = mod.guess(y, x=x)\n",
    "#     out = mod.fit(y, pars, x=x)\n",
    "#     plt.plot(x,out.best_fit,color=zeva[i])\n",
    "#     print(out.fit_report(min_correl=0.25))\n",
    "import matplotlib.image\n",
    "logo = np.zeros((1024,1024))\n",
    "logo = plt.imread('Analysis notebook/Technion_logo.png')\n",
    "y=20\n",
    "x=20\n",
    "\n",
    "plt.subplot(132)\n",
    "sigma=3.81*4\n",
    "logo1 =  scipy.ndimage.gaussian_filter(logo, (sigma,sigma,-1))\n",
    "plt.imshow(logo1)#, cmap='gray')\n",
    "plt.tick_params(left = False, right = False , labelleft = False, \n",
    "                labelbottom = False, bottom = False)\n",
    "plt.title('Imaging with hybrid scintillator')\n",
    "plt.subplot(133)\n",
    "sigma=4.86*4\n",
    "logo2 =  scipy.ndimage.gaussian_filter(logo, (sigma,sigma,0))\n",
    "plt.imshow(logo2)#, cmap='gray')\n",
    "plt.tick_params(left = False, right = False , labelleft = False, \n",
    "                labelbottom = False, bottom = False)\n",
    "plt.title('Imaging with uniform scintillator\\nwith equivalent intensity')\n",
    "logo[1850:1900,50:250]=[0, 0, 0, 1]\n",
    "plt.subplot(131)\n",
    "plt.imshow(logo)#, cmap='gray')\n",
    "# plt.axis([512-x,512+x,512-y,512+y])\n",
    "plt.tick_params(left = False, right = False , labelleft = False, \n",
    "                labelbottom = False, bottom = False)\n",
    "plt.title('Original image')"
   ]
  },
  {
   "cell_type": "code",
   "execution_count": null,
   "id": "0492199e",
   "metadata": {},
   "outputs": [],
   "source": [
    "os.getcwd()"
   ]
  },
  {
   "cell_type": "code",
   "execution_count": null,
   "id": "9bcbbfda",
   "metadata": {},
   "outputs": [],
   "source": [
    "print ('Pixel size = {} m'.format(0.5e-3/1024*200))"
   ]
  },
  {
   "cell_type": "markdown",
   "id": "004c2c7a",
   "metadata": {},
   "source": [
    "# Silverfish"
   ]
  },
  {
   "cell_type": "code",
   "execution_count": 6,
   "id": "e7f1d979",
   "metadata": {},
   "outputs": [],
   "source": [
    "\n",
    "plt.figure(figsize=(8,3))\n",
    "os.chdir('15.01.2023 - silverfish')\n",
    "im = ['hyb200','uni10um']\n",
    "for i in range(2):\n",
    "    image = np.loadtxt('silverfish_'+im[i])\n",
    "    plt.subplot(1,2,i+1)\n",
    "    \n",
    "    plt.gca().axes.get_xaxis().set_visible(False)\n",
    "    plt.gca().axes.get_yaxis().set_visible(False)\n",
    "    if i == 0:\n",
    "        plt.title('6 $\\mu m$ hybrid scintillator')\n",
    "    if i == 1:\n",
    "        \n",
    "        plt.title('10 $\\mu m$ uniform scintillator')\n",
    "        image=np.rot90(image,k=2)\n",
    "#         plt.axis([144,494,58,425])\n",
    "    if i == 2:\n",
    "        plt.title('6.2 $\\mu m$ uniform scintillator')\n",
    "        image=np.rot90(image,k=2)\n",
    "    plt.imshow(image, cmap='gray')#, vmin =0.3 , vmax = 1.2)\n",
    "    plt.matplotlib.pyplot.colorbar()\n",
    "    plt.tight_layout()\n",
    "os.chdir('../')"
   ]
  },
  {
   "cell_type": "code",
   "execution_count": null,
   "id": "a3746fc1",
   "metadata": {},
   "outputs": [],
   "source": [
    "os.chdir('../')"
   ]
  },
  {
   "cell_type": "code",
   "execution_count": null,
   "id": "16aa1105",
   "metadata": {},
   "outputs": [],
   "source": [
    "combined_data = np.array([a, b, c])\n",
    "#Get the min and max of all your data\n",
    "_min, _max = np.amin(combined_data), np.amax(combined_data)\n"
   ]
  },
  {
   "cell_type": "code",
   "execution_count": null,
   "id": "1c3c37da",
   "metadata": {},
   "outputs": [],
   "source": []
  },
  {
   "cell_type": "code",
   "execution_count": null,
   "id": "5a9f79a7",
   "metadata": {},
   "outputs": [],
   "source": [
    "data = 'hyb_silverfish_bkg.asc'\n",
    "with open(data, 'r') as the_file:\n",
    "        for line in the_file:\n",
    "            if line.startswith('564.67523'):\n",
    "                break\n",
    "        for each_line in the_file:    \n",
    "            N = np.array([each_line.split(\",\") for each_line in the_file])\n",
    "            bkg = N[:,1:-1]\n",
    "            bkg = np.asfarray(bkg)\n",
    "plt.imshow(sig)"
   ]
  },
  {
   "cell_type": "code",
   "execution_count": null,
   "id": "317a6cc6",
   "metadata": {},
   "outputs": [],
   "source": [
    "# np.savetxt('sig',np.subtract(sig,bkg))"
   ]
  },
  {
   "cell_type": "code",
   "execution_count": null,
   "id": "70f6ddd1",
   "metadata": {},
   "outputs": [],
   "source": [
    "os.chdir('15.01.2023 - silverfish')\n",
    "\n",
    "# if os.getcwd().split('\\\\')[-1] == 'Analysis notebook':\n",
    "#     os.chdir('../')\n",
    "# folder = '15.01.2023 - silverfish'\n",
    "# os.chdir(folder)\n",
    "data = 'silverfishvis.asc'\n",
    "with open(data, 'r') as the_file:\n",
    "    for line in the_file:\n",
    "        if line.startswith('564.67523'):\n",
    "            break\n",
    "    for each_line in the_file:    \n",
    "        N = np.array([each_line.split(\",\") for each_line in the_file])\n",
    "    im = np.asfarray(N[:,1:-1])"
   ]
  },
  {
   "cell_type": "code",
   "execution_count": null,
   "id": "6df4a1a4",
   "metadata": {},
   "outputs": [],
   "source": [
    "plt.close()\n",
    "im=np.rot90(im,k=1)\n",
    "plt.imshow(im, cmap='gray')\n",
    "plt.show()"
   ]
  },
  {
   "cell_type": "code",
   "execution_count": null,
   "id": "d64da992",
   "metadata": {},
   "outputs": [],
   "source": []
  }
 ],
 "metadata": {
  "kernelspec": {
   "display_name": "Python 3",
   "language": "python",
   "name": "python3"
  },
  "language_info": {
   "codemirror_mode": {
    "name": "ipython",
    "version": 3
   },
   "file_extension": ".py",
   "mimetype": "text/x-python",
   "name": "python",
   "nbconvert_exporter": "python",
   "pygments_lexer": "ipython3",
   "version": "3.7.6"
  }
 },
 "nbformat": 4,
 "nbformat_minor": 5
}
