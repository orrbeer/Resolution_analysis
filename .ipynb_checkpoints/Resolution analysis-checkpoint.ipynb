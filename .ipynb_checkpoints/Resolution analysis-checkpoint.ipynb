{
 "cells": [
  {
   "cell_type": "code",
   "execution_count": 42,
   "id": "283af904",
   "metadata": {
    "scrolled": false
   },
   "outputs": [
    {
     "name": "stdout",
     "output_type": "stream",
     "text": [
      "d (um)  s     s_err  c     c_err\n"
     ]
    }
   ],
   "source": [
    "import os\n",
    "import matplotlib.pyplot as plt\n",
    "import numpy as np\n",
    "import sif_parser\n",
    "from scipy.signal import savgol_filter\n",
    "import lmfit\n",
    "from lmfit import Model\n",
    "import datetime\n",
    "import pandas as pd\n",
    "%matplotlib tk\n",
    "def logistic(x, a, b, c, d):\n",
    "        return a / (1. + np.exp(-c * (x - d))) + b\n",
    "cs = np.zeros(1024)    \n",
    "a_s = np.zeros(1024)  \n",
    "if os. getcwd().split('\\\\')[-1] == 'Analysis notebook':\n",
    "    os.chdir('../')\n",
    "folder = r'28.10.2023 - uniform layer resolution'\n",
    "\n",
    "df = pd.DataFrame()\n",
    "for f in os.listdir(folder):\n",
    "    print(f)\n",
    "for filename in os.listdir(folder):\n",
    "    if os.path.isfile(filename)==True:\n",
    "        continue\n",
    "    if filename != os.listdir(folder)[19]: # 3 7 9 11 12 14 15 19 20\n",
    "        continue\n",
    "    print(filename)\n",
    "    f = os.path.join(folder, filename)\n",
    "    data, info = sif_parser.np_open(f)\n",
    "\n",
    "#     if filename.split('_')[2] != '3.8um':\n",
    "#         continue\n",
    "    date = datetime.datetime.fromtimestamp(info['ExperimentTime'])\n",
    "#     if date.day==23:\n",
    "#         continue\n",
    "    print(date)\n",
    "    plt.figure()\n",
    "    data[0,:,:] = (data - np.average(data[0,:,:]))/np.std(data[0,:,:])\n",
    "    data[data>3*np.std(data)]=np.std(data)\n",
    "    print(np.std(data))\n",
    "    plt.imshow(data[0,:,:], cmap='gray')#\n",
    "    plt.title(filename.split('_')[2])\n",
    "    plt.show()\n",
    "    print(np.shape(data))\n",
    "    d_start = 300\n",
    "    d_stop = 700\n",
    "    for i in range(np.shape(data)[1]):\n",
    "        ddata = data[0,i,d_start:d_stop] # data[0,i,:]   or  data[0,i,d_start:d_stop]\n",
    "#         print(' line {:.0f}, av ={:.2f}, st = {:.2f}'.format(i,np.average(ddata),np.std(ddata)))\n",
    "        x = np.linspace(0,len(ddata)-1,len(ddata))\n",
    "        gmodel = Model(logistic)\n",
    "        result = gmodel.fit(ddata, x=x, a=0, c = .1, d=1, b=0)\n",
    "        if result.chisqr < 2e5:\n",
    "            cs[i] = result.params['c'].value\n",
    "            a_s[i] = result.params['a'].value\n",
    "            \n",
    "        j = np.argmax(cs)\n",
    "    print(j)\n",
    "    spn = 15\n",
    "av_cs = np.zeros(len(cs)-spn)\n",
    "av_as = np.zeros(len(cs)-spn)\n",
    "print('d (um)  s     s_err  c     c_err')\n",
    "for i in range(len(av_cs)):\n",
    "    av_cs[i] = sum(cs[0+i:50+i])/spn\n",
    "    av_as[i] = sum(a_s[0+i:50+i])/spn\n",
    "print(filename.split('_')[2][0:3] +'     {:.2f}  {:.2f}   {:.2f}  {:.2f}'.format(max(abs(av_cs)), np.std(av_cs[int(np.argmax(abs(av_cs))-spn/2):int(np.argmax(abs(av_cs))+spn/2)]), abs(av_as[np.argmax(abs(av_cs))]), np.std(av_as[int(np.argmax(abs(av_cs))-spn/2):int(np.argmax(abs(av_cs))+spn/2)])))#, ,np.std(av_as[np.argmax(abs(av_cs))-spn/2:np.argmax(abs(av_cs))+spn/2])))\n",
    "c = np.zeros(spn)\n",
    "a = np.zeros(spn)\n",
    "plt.figure()\n",
    "    \n",
    "   \n"
   ]
  },
  {
   "cell_type": "code",
   "execution_count": 40,
   "id": "90b6c8f2",
   "metadata": {},
   "outputs": [
    {
     "name": "stdout",
     "output_type": "stream",
     "text": [
      "d (um)  s     s_err  c     c_err\n",
      "7.5     0.98  0.01   5.98  0.01\n",
      "254\n"
     ]
    }
   ],
   "source": [
    "spn = 15\n",
    "av_cs = np.zeros(len(cs)-spn)\n",
    "av_as = np.zeros(len(cs)-spn)\n",
    "print('d (um)  s     s_err  c     c_err')\n",
    "for i in range(len(av_cs)):\n",
    "    av_cs[i] = sum(cs[0+i:50+i])/spn\n",
    "    av_as[i] = sum(a_s[0+i:50+i])/spn\n",
    "print(filename.split('_')[2][0:3] +'     {:.2f}  {:.2f}   {:.2f}  {:.2f}'.format(max(abs(av_cs)), np.std(av_cs[int(np.argmax(abs(av_cs))-spn/2):int(np.argmax(abs(av_cs))+spn/2)]), abs(av_as[np.argmax(abs(av_cs))]), np.std(av_as[int(np.argmax(abs(av_cs))-spn/2):int(np.argmax(abs(av_cs))+spn/2)])))#, ,np.std(av_as[np.argmax(abs(av_cs))-spn/2:np.argmax(abs(av_cs))+spn/2])))\n",
    "c = np.zeros(spn)\n",
    "a = np.zeros(spn)\n",
    "plt.figure()\n",
    "print(np.argmax(abs(av_cs)))\n",
    "for i in range(int(np.argmax(abs(av_cs))-spn/2),int(np.argmax(abs(av_cs))+spn/2)):\n",
    "\n",
    "    ddata = data[0,i,d_start:d_stop]\n",
    "    x = np.linspace(0,len(ddata)-1,len(ddata))\n",
    "    gmodel = Model(logistic)\n",
    "    result = gmodel.fit(ddata, x=x, a=80, c = .1, d=100, b=60)\n",
    "    plt.plot(x, ddata, label = 'Chi^2={:.0f}'.format(result.chisqr))\n",
    "    plt.plot(x, result.best_fit, '--')#, label='Fit'\n",
    "    plt.title(filename.split('_')[2])\n",
    "#     plt.legend()\n",
    "    plt.show()"
   ]
  },
  {
   "cell_type": "code",
   "execution_count": null,
   "id": "a310de7a",
   "metadata": {},
   "outputs": [],
   "source": [
    "print(int(np.argmax((abs(av_cs))-spn/2)))"
   ]
  },
  {
   "cell_type": "code",
   "execution_count": null,
   "id": "c737bd75",
   "metadata": {},
   "outputs": [],
   "source": [
    "spn = 5\n",
    "j = 0\n",
    "c = np.zeros(spn)\n",
    "a = np.zeros(spn)\n",
    "plt.figure()\n",
    "ind = np.argpartition(cs, -spn)[-spn:]\n",
    "print(ind)\n",
    "for i in ind:\n",
    "    ddata = data[0,i,400:600]\n",
    "    x = np.linspace(0,len(ddata)-1,len(ddata))\n",
    "    gmodel = Model(logistic)\n",
    "    result = gmodel.fit(ddata, x=x, a=80, c = .1, d=100, b=60)\n",
    "    a[j] = result.params['a'].value\n",
    "    c[j] = result.params['c'].value\n",
    "    plt.plot(x, ddata, label = 'Chi^2={:.0f}'.format(result.chisqr))\n",
    "    plt.plot(x, result.best_fit, '--')#, label='Fit'\n",
    "    j=j+1\n",
    "    plt.title(filename.split('_')[2])\n",
    "    plt.legend()\n",
    "    plt.show()\n",
    "    \n",
    "print(filename.split('_')[3])\n",
    "print('Contrast\\tSharpness\\terrC\\terrS')\n",
    "print('{:.3f}\\t{:.1f}\\t{:.3f}\\t{:.1f}'.format(np.average(c), np.average(a), np.std(c), np.std(a)))\n",
    "\n"
   ]
  },
  {
   "cell_type": "code",
   "execution_count": null,
   "id": "78d81b9e",
   "metadata": {},
   "outputs": [],
   "source": [
    "print(c)"
   ]
  },
  {
   "cell_type": "code",
   "execution_count": null,
   "id": "7c4a6c86",
   "metadata": {},
   "outputs": [],
   "source": [
    "spn = 2\n",
    "c = np.zeros(spn*2-1)\n",
    "a = np.zeros(spn*2-1)\n",
    "plt.figure()\n",
    "for i in range(j-spn, j+spn,1):\n",
    "    ddata = data[0,i,:]\n",
    "    x = np.linspace(0,1023,1024)\n",
    "    gmodel = Model(logistic)\n",
    "    result = gmodel.fit(ddata, x=x, a=80, c = .1, d=500, b=60)\n",
    "    a[i-(j-spn+1)] = result.params['a'].value\n",
    "    c[i-(j-spn+1)] = result.params['c'].value\n",
    "    plt.plot(x, ddata, label = 'Chi^2={:.0f}'.format(result.chisqr))\n",
    "    plt.plot(x, result.best_fit, '--')#, label='Fit'\n",
    "    plt.legend()\n",
    "    plt.show()\n",
    "print(filename.split('_')[3])\n",
    "print('Contrast\\tSharpness\\terrC\\terrS')\n",
    "print('{:.3f}\\t{:.1f}\\t{:.3f}\\t{:.1f}'.format(np.average(c), np.average(a), np.std(c), np.std(a)))\n",
    "print(j)\n"
   ]
  },
  {
   "cell_type": "code",
   "execution_count": null,
   "id": "11fc273d",
   "metadata": {},
   "outputs": [],
   "source": [
    "print(np.shape(data))\n",
    "print(filename)"
   ]
  },
  {
   "cell_type": "code",
   "execution_count": null,
   "id": "3b65a6b1",
   "metadata": {},
   "outputs": [],
   "source": [
    "folder = '31.10.2023 - uniform layer resolution'\n",
    "file = 'hybrid_EJ1um_TiOx200nm_chip_tilted_10X_10ac_15sec_50Kv_199uA_.sif'\n",
    "f = os.path.join(folder, file)\n",
    "data, info = sif_parser.np_open(f)\n",
    "plt.figure()\n",
    "plt.imshow(data[0,:,:],cmap='gray', vmin=0, vmax=255)\n",
    "# plt.title(filename.split('_')[3])\n",
    "plt.show()"
   ]
  },
  {
   "cell_type": "code",
   "execution_count": null,
   "id": "a83e3418",
   "metadata": {},
   "outputs": [],
   "source": [
    "cs = np.zeros(1024)    \n",
    "a_s = np.zeros(1024)  \n",
    "if os. getcwd().split('\\\\')[-1] == 'Analysis notebook':\n",
    "    os.chdir('../')\n",
    "folder = r'28.10.2023 - uniform layer resolution'\n",
    "\n",
    "df = pd.DataFrame()\n",
    "filenames = os.listdir(folder)\n",
    "for f in filenames:\n",
    "    print(f)\n",
    "for r in [3, 7, 9, 11, 12, 14, 15, 19, 20]:\n",
    "    if os.path.isfile(filenames==True:\n",
    "#         continue\n",
    "#     if filename != os.listdir(folder)[19]: # 3 7 9 11 12 14 15 19 20\n",
    "#         continue\n",
    "    f = os.path.join(folder, filename)\n",
    "    data, info = sif_parser.np_open(f)\n",
    "\n",
    "#     if filename.split('_')[2] != '3.8um':\n",
    "#         continue\n",
    "    date = datetime.datetime.fromtimestamp(info['ExperimentTime'])\n",
    "#     if date.day==23:\n",
    "#         continue\n",
    "    print(date)\n",
    "    plt.figure()\n",
    "    data[0,:,:] = (data - np.average(data[0,:,:]))/np.std(data[0,:,:])\n",
    "    data[data>3*np.std(data)]=np.std(data)\n",
    "    print(np.std(data))\n",
    "    plt.imshow(data[0,:,:], cmap='gray')#\n",
    "    plt.title(filename.split('_')[2])\n",
    "    plt.show()\n",
    "    print(np.shape(data))\n",
    "    d_start = 300\n",
    "    d_stop = 700\n",
    "    for i in range(np.shape(data)[1]):\n",
    "        ddata = data[0,i,d_start:d_stop] # data[0,i,:]   or  data[0,i,d_start:d_stop]\n",
    "#         print(' line {:.0f}, av ={:.2f}, st = {:.2f}'.format(i,np.average(ddata),np.std(ddata)))\n",
    "        x = np.linspace(0,len(ddata)-1,len(ddata))\n",
    "        gmodel = Model(logistic)\n",
    "        result = gmodel.fit(ddata, x=x, a=0, c = .1, d=1, b=0)\n",
    "        if result.chisqr < 2e5:\n",
    "            cs[i] = result.params['c'].value\n",
    "            a_s[i] = result.params['a'].value\n",
    "            \n",
    "        j = np.argmax(cs)\n",
    "    print(j)\n",
    "    spn = 15\n",
    "av_cs = np.zeros(len(cs)-spn)\n",
    "av_as = np.zeros(len(cs)-spn)\n",
    "print('d (um)  s     s_err  c     c_err')\n",
    "for i in range(len(av_cs)):\n",
    "    av_cs[i] = sum(cs[0+i:50+i])/spn\n",
    "    av_as[i] = sum(a_s[0+i:50+i])/spn\n",
    "print(filename.split('_')[2][0:3] +'     {:.2f}  {:.2f}   {:.2f}  {:.2f}'.format(max(abs(av_cs)), np.std(av_cs[int(np.argmax(abs(av_cs))-spn/2):int(np.argmax(abs(av_cs))+spn/2)]), abs(av_as[np.argmax(abs(av_cs))]), np.std(av_as[int(np.argmax(abs(av_cs))-spn/2):int(np.argmax(abs(av_cs))+spn/2)])))#, ,np.std(av_as[np.argmax(abs(av_cs))-spn/2:np.argmax(abs(av_cs))+spn/2])))\n",
    "c = np.zeros(spn)\n",
    "a = np.zeros(spn)\n",
    "plt.figure()\n",
    "    \n"
   ]
  },
  {
   "cell_type": "code",
   "execution_count": 41,
   "id": "fb05926e",
   "metadata": {},
   "outputs": [
    {
     "ename": "SyntaxError",
     "evalue": "invalid syntax (2245327199.py, line 1)",
     "output_type": "error",
     "traceback": [
      "\u001b[1;36m  File \u001b[1;32m\"C:\\Users\\orrbeer\\AppData\\Local\\Temp\\ipykernel_118396\\2245327199.py\"\u001b[1;36m, line \u001b[1;32m1\u001b[0m\n\u001b[1;33m    1 == [2 3 1]\u001b[0m\n\u001b[1;37m            ^\u001b[0m\n\u001b[1;31mSyntaxError\u001b[0m\u001b[1;31m:\u001b[0m invalid syntax\n"
     ]
    }
   ],
   "source": []
  },
  {
   "cell_type": "code",
   "execution_count": null,
   "id": "991f7866",
   "metadata": {},
   "outputs": [],
   "source": []
  }
 ],
 "metadata": {
  "kernelspec": {
   "display_name": "Python 3",
   "language": "python",
   "name": "python3"
  },
  "language_info": {
   "codemirror_mode": {
    "name": "ipython",
    "version": 3
   },
   "file_extension": ".py",
   "mimetype": "text/x-python",
   "name": "python",
   "nbconvert_exporter": "python",
   "pygments_lexer": "ipython3",
   "version": "3.7.6"
  },
  "widgets": {
   "application/vnd.jupyter.widget-state+json": {
    "state": {},
    "version_major": 2,
    "version_minor": 0
   }
  }
 },
 "nbformat": 4,
 "nbformat_minor": 5
}
