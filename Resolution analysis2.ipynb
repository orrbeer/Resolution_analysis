{
 "cells": [
  {
   "cell_type": "markdown",
   "id": "0b092cbc",
   "metadata": {},
   "source": [
    "# Initializing and functions"
   ]
  },
  {
   "cell_type": "code",
   "execution_count": 1,
   "id": "dd221063",
   "metadata": {},
   "outputs": [],
   "source": [
    "import os\n",
    "import matplotlib.pyplot as plt\n",
    "from matplotlib.patches import Rectangle\n",
    "import numpy as np\n",
    "import sif_parser\n",
    "import scipy\n",
    "from scipy.signal import savgol_filter\n",
    "import lmfit\n",
    "from lmfit import Model\n",
    "import datetime\n",
    "import pandas as pd\n",
    "import csv\n",
    "import cv2\n",
    "\n",
    "scl=0.45\n",
    "#############################################################################\n",
    "SMALL_SIZE = 30*scl\n",
    "MEDIUM_SIZE = 33*scl\n",
    "BIGGER_SIZE = 35*scl\n",
    "plt.rc('font', size=MEDIUM_SIZE)          # controls default text sizes\n",
    "plt.rc('axes', titlesize=MEDIUM_SIZE)     # fontsize of the axes title\n",
    "plt.rc('axes', labelsize=MEDIUM_SIZE)    # fontsize of the x and y labels\n",
    "plt.rc('xtick', labelsize=MEDIUM_SIZE)    # fontsize of the tick labels\n",
    "plt.rc('ytick', labelsize=MEDIUM_SIZE)    # fontsize of the tick labels\n",
    "plt.rc('legend', fontsize=SMALL_SIZE)    # legend fontsize\n",
    "plt.rc('figure', titlesize=BIGGER_SIZE)  # fontsize of the figure title\n",
    "# plt.rcParams[\"font.family\"] = \"Times New Roman\"\n",
    "# plt.rcParams['text.usetex'] = True\n",
    "#############################################################################\n",
    "%matplotlib tk\n",
    "def logistic(x, a, b, c, d):\n",
    "        return a / (1. + np.exp(-c * (x - d))) + b\n",
    "def square(x, a, b, c):\n",
    "    return a*x**2 + b*x + c"
   ]
  },
  {
   "cell_type": "code",
   "execution_count": 2,
   "id": "14ca298a",
   "metadata": {},
   "outputs": [],
   "source": [
    "import numpy as np\n",
    "from pyhank import qdht, HankelTransform\n",
    "import matplotlib.pyplot as plt\n",
    "\n",
    "def smoothAvg(data, box_pts):\n",
    "    y = data[:,1]\n",
    "    y_smooth = smoothAvgAux(y, box_pts)\n",
    "    if box_pts == 0:\n",
    "        return np.array([data[:,0], y_smooth]).transpose()\n",
    "    else:\n",
    "        return np.array([data[:-box_pts,0], y_smooth[:-box_pts]]).transpose()\n",
    "\n",
    "def smoothAvgAux(y, box_pts):\n",
    "    if box_pts == 0:\n",
    "        return y\n",
    "    box = np.ones(box_pts)/box_pts\n",
    "    y_smooth = np.convolve(y, box, mode='same')\n",
    "    return y_smooth\n",
    "\n",
    "def lsf2psf(lsf, x, control):\n",
    "    r = np.linspace(start=0.0, stop=np.max(np.abs(x)), num=control['nr'])\n",
    "    lsf_mat = np.tile(np.abs(lsf).transpose(), [len(r), 1])\n",
    "    X, R = np.meshgrid(x, r)\n",
    "    dx = np.abs(x[2] - x[1])\n",
    "\n",
    "    integrand = - 1 / np.pi * lsf_mat * R / ( np.abs(X) * np.sqrt(X**2 - R**2 + 1e-20)) * dx\n",
    "    integrand = np.nan_to_num(integrand, nan=0) * (np.abs(X) > R)\n",
    "    integral = np.sum(integrand, axis=1)\n",
    "    psf = np.abs(np.diff(integral)[control['spare']:-control['spare']])\n",
    "\n",
    "    psf = smoothAvgAux(psf, control['blurKernelSizePSF'])[control['blurKernelSizePSF']:]\n",
    "    return psf\n",
    "\n",
    "def mtf2dqe(psf, mtf, control):\n",
    "    absorption = 0.08\n",
    "    g1 = absorption\n",
    "    g2 = np.sum(np.abs(psf))\n",
    "    g3 = 0.5\n",
    "    dqe = g1 / (1 + 1 / (g2 * g3 * np.abs(mtf / 100)**2))\n",
    "    dqe = 100 * smoothAvgAux(dqe, control['blurKernelSizeDQE'])[control['blurKernelSizeDQE']:]\n",
    "    return dqe\n",
    "\n",
    "def psf2mtf(r, psf, control):\n",
    "    \"\"\"Compute the MTF of a PSF with cylindrical symmetric using Hankel transform\"\"\"\n",
    "    H = HankelTransform(order=0, radial_grid=r)\n",
    "\n",
    "    psf_high_res = np.zeros_like(r)\n",
    "    psf_high_res[:len(psf)] = psf\n",
    "\n",
    "    ht = np.abs(H.qdht(psf_high_res))\n",
    "    ht /= (np.max(ht) + 1e-12)\n",
    "    smoothMTF = smoothAvg(np.array([H.v, ht]).transpose(), control['blurKernelSizeMTF'])\n",
    "    smoothMTF = smoothMTF[(control['blurKernelSizeMTF'] - 0):, :]\n",
    "    smoothMTF[:, 0] -= smoothMTF[0, 0]\n",
    "    smoothMTF[:, 1] /= (smoothMTF[0, 1] + 1e-20)\n",
    "    smoothMTF[:, 1] *= 100\n",
    "    return smoothMTF\n",
    "\n",
    "def compute_image_characteristics(y, control):\n",
    "    r = control['CCD_pixel_size'] * np.arange(len(y))\n",
    "    esf = smoothAvgAux(y, control['blurKernelSize'])\n",
    "    if control['blurKernelSize'] > 0:\n",
    "        esf = esf[control['blurKernelSize']: -control['blurKernelSize']]\n",
    "    lsf = np.abs(smoothAvgAux(np.diff(esf), control['blurKernelSize']))\n",
    "\n",
    "    data = np.array([r,y]).transpose()\n",
    "    data = smoothAvg(data, control['blurKernelSize'])\n",
    "    data[:,0] -= data[0,0]\n",
    "\n",
    "    x = control['CCD_pixel_size'] * (np.arange(len(lsf)) - np.argmax(lsf))\n",
    "    psf = lsf2psf(lsf, x, control)\n",
    "\n",
    "    esf_vec = np.array([control['CCD_pixel_size'] * (np.arange(len(esf)) - np.argmax(np.abs(lsf))), esf]).transpose()\n",
    "    lsf_vec = np.array([control['CCD_pixel_size'] * (np.arange(len(lsf)) - np.argmax(np.abs(lsf))), lsf]).transpose()\n",
    "    psf_vec = np.array([control['CCD_pixel_size'] * np.arange(len(psf)), psf]).transpose()\n",
    "\n",
    "    mtf_vec = psf2mtf(psf_vec[:, 0], psf_vec[:, 1], control)\n",
    "    dqe_vec = np.array([mtf_vec[:-control['blurKernelSizeDQE'], 0], mtf2dqe(psf_vec[:, 1], mtf_vec[:, 1], control)]).transpose()\n",
    "\n",
    "    return data, esf_vec, lsf_vec, psf_vec, mtf_vec, dqe_vec\n",
    "\n",
    "def plot_image_characteristics(esf, lsf, psf, mtf, dqe, control):\n",
    "    fig, ax = plt.subplots(1, 4)\n",
    "    # Plot the three lines on the same axes\n",
    "    ax[0].plot(esf[:, 0], esf[:, 1], label='esf')\n",
    "    ax[1].plot(psf[:, 0], psf[:, 1], label='psf')\n",
    "    ax[2].plot(mtf[:, 0], mtf[:, 1], label='mtf')\n",
    "    ax[2].axhline(3, color='r')\n",
    "    ax[3].plot(dqe[:, 0], dqe[:, 1], label='dqe')\n",
    "    ax[2].set_yscale('log')\n",
    "    ax[3].set_yscale('log')\n",
    "    ax[0].legend()\n",
    "    ax[1].legend()\n",
    "    ax[2].legend()\n",
    "    ax[3].legend()\n",
    "    plt.show()\n",
    "\n",
    "def find_closest(array, value):\n",
    "    array = np.asarray(array)\n",
    "    idx = (np.abs(array - value)).argmin()\n",
    "    \n",
    "    return idx\n",
    "\n",
    "def get_resolution(mtf, threshold=0.1):\n",
    "    return mtf[find_closest(mtf[:,1], threshold),0]\n",
    "\n",
    "def mtf2dqe2(mtf, xray_absorption):\n",
    "    T2 = np.abs(mtf / 100)**2\n",
    "    g1 = xray_absorption\n",
    "    \n",
    "    # Conversion from xray to electrons, similar to all structures\n",
    "    g2 = 1.\n",
    "\n",
    "    # For simplicity we assume the all secondary electrons are converted to light \n",
    "    g3 = 1.\n",
    "    \n",
    "    # The scintillation yield in hybrid structures is fixed\n",
    "    scintillation_yield = 9 # 1/keV\n",
    "    electron_energy = 22 # keV\n",
    "    g4 = electron_energy * scintillation_yield\n",
    "\n",
    "    dqe = 1 / (1 + (1-g1)/g1 + 1/(g1*g2) + (1-g3)/(g1*g2*g3) + 1/(g1*g2*g3*g4) + (1-T2)/(g1*g2*g3*g4*T2))\n",
    "    dqe = 100 * dqe\n",
    "    return dqe\n",
    "\n",
    "\"\"\"\n",
    "Here start the main module of the script\n",
    "First, we define the control, which contains some general parameters\n",
    "Then we extract the image characteristics\n",
    "\"\"\"\n",
    "\n",
    "control = {\n",
    "           'CCD_pixel_size': 13e-3,  # in [mm]\n",
    "           'blurKernelSize': 15,\n",
    "           'blurKernelSizePSF': 15,\n",
    "           'blurKernelSizeMTF': 20,\n",
    "           'blurKernelSizeDQE': 2,\n",
    "           'spare': 1,\n",
    "           'nr': 200,\n",
    "           }\n",
    "\n",
    "# plt.ion()\n",
    "# a = 1\n",
    "# c = 1\n",
    "# x = np.linspace(-10, 10, 200)\n",
    "# esf_signal = a / (1 + c * np.exp(-x))\n",
    "# data, esf, lsf, psf, mtf, dqe = compute_image_characteristics(esf_signal, control)\n",
    "# plot_image_characteristics(esf, lsf, psf, mtf, dqe, control)\n",
    "# print()"
   ]
  },
  {
   "cell_type": "code",
   "execution_count": 3,
   "id": "08ccff56",
   "metadata": {},
   "outputs": [
    {
     "data": {
      "text/plain": [
       "'C:\\\\Users\\\\orrbeer\\\\OneDrive - Technion\\\\My files\\\\Shared lab data\\\\Group members DATA\\\\Orr\\\\GitHub\\\\Resolution_analysis'"
      ]
     },
     "execution_count": 3,
     "metadata": {},
     "output_type": "execute_result"
    }
   ],
   "source": [
    "os.getcwd()\n"
   ]
  },
  {
   "cell_type": "markdown",
   "id": "c6a623dc",
   "metadata": {},
   "source": [
    "# Reference signal substraction\n",
    "## Image is the reference - signal"
   ]
  },
  {
   "cell_type": "code",
   "execution_count": 25,
   "id": "2f5ae65b",
   "metadata": {},
   "outputs": [],
   "source": [
    "plt.close()\n",
    "\n",
    "tck = 'hybrid'\n",
    "if os.getcwd().split('\\\\')[-1] == 'Analysis notebook':\n",
    "    os.chdir('../')\n",
    "folder = '31-28.10 backround removing/Mask-100um/'\n",
    "# folder = '31-28.10 backround removing/Different_stopping/'+tck\n",
    "# folder = '05.12.2023 - Cu source/'\n",
    "os.chdir(folder+tck)\n",
    "\n",
    "s = 'sig.asc' # mask-100um is '.asc' and mask-400um is '.txt'\n",
    "r = 'ref.asc'\n",
    "with open(s, 'r') as the_file:\n",
    "    for line in the_file:\n",
    "        if line.startswith('564.67523'):\n",
    "            break\n",
    "    for each_line in the_file:    \n",
    "        N = np.array([each_line.split(\",\") for each_line in the_file])\n",
    "sig = N[:,1:-1]\n",
    "sig = np.asfarray(sig)\n",
    "with open(r, 'r') as the_file:\n",
    "    for line in the_file:\n",
    "        if line.startswith('564.67523'):\n",
    "            break\n",
    "    for each_line in the_file:    \n",
    "        N = np.array([each_line.split(\",\") for each_line in the_file])\n",
    "ref = N[:,1:-1]\n",
    "ref = np.asfarray(ref)\n",
    "im = np.true_divide(sig,ref)\n",
    "# sig[sig > 5*np.std(sig)] = np.std(sig)\n",
    "image = np.rot90(im, k=-1) #dark side should be to the left, if not change k switch 1 to -1\n",
    "if tck == '3.6_um':\n",
    "    image[852,429] = 0.5\n",
    "plt.imshow(image)#, cmap='gray')\n",
    "plt.title('Sample: uniform {}um'.format(tck))\n",
    "plt.savefig(tck+'.png')\n",
    "plt.show()\n",
    "os.chdir('../../../')\n"
   ]
  },
  {
   "cell_type": "markdown",
   "id": "c3a651f5",
   "metadata": {},
   "source": [
    "# Image aligning and slicing\n",
    "## binary\n",
    "is a binary mask to difrenciate between the covered and the uncovered area\n",
    "## rotated\n",
    "is the binary mask where the line between the cover and uncover is rotated to aligned with y axis\n",
    "## roi\n",
    "is the ROI where step function will be fitted to avoid overfitting and picture artefacts"
   ]
  },
  {
   "cell_type": "code",
   "execution_count": 26,
   "id": "841baa10",
   "metadata": {},
   "outputs": [
    {
     "name": "stdout",
     "output_type": "stream",
     "text": [
      "5.054136562464148\n"
     ]
    }
   ],
   "source": [
    "plt.close()\n",
    "def first_nonzero(arr, axis, invalid_val=-1): #Find first non-zero value in every column of a 2d array\n",
    "    mask = arr>1e-6\n",
    "    return np.where(mask.any(axis=axis), mask.argmax(axis=axis), invalid_val)\n",
    "def line(x, slope, intercept):\n",
    "    return slope*x + intercept\n",
    "plt.subplot(221)\n",
    "plt.imshow(image, cmap='gray')\n",
    "binary = np.zeros(np.shape(image))\n",
    "binary[image>2.5*np.std(image)] = 255 # if doesn't work use 1.5 instead of 2.5\n",
    "binary = scipy.ndimage.median_filter(binary,size=(25,25))\n",
    "plt.subplot(222)\n",
    "plt.imshow(binary, cmap='gray')\n",
    "vec = first_nonzero(binary[:,100:-100], axis=1, invalid_val=-1)\n",
    "x = np.linspace(0,len(vec)-1,len(vec))\n",
    "gmodel = Model(line)\n",
    "result = gmodel.fit(vec, x=x, slope=((vec[-1]-vec[1])/(x[-1]-x[1])), intercept=vec[1])\n",
    "theta = np.arctan(result.params['slope'].value)*180/np.pi\n",
    "plt.subplot(223)\n",
    "rotated = scipy.ndimage.rotate(binary, -theta)\n",
    "plt.imshow(rotated, cmap='gray')\n",
    "mid = int(np.average(first_nonzero(rotated[50:-50,:], axis=1, invalid_val=-1)))+20# Add 115 to sample 7.5, Add 10 to Hybrid, add 15 to all 400um \n",
    "roi = rotated[100:-100,mid-100:mid+100]\n",
    "plt.subplot(224)\n",
    "plt.imshow(roi, cmap='gray')\n",
    "plt.show()\n",
    "print(theta)"
   ]
  },
  {
   "cell_type": "markdown",
   "id": "7a4da43d",
   "metadata": {},
   "source": [
    "# Fitting "
   ]
  },
  {
   "cell_type": "code",
   "execution_count": 27,
   "id": "19860318",
   "metadata": {},
   "outputs": [],
   "source": [
    "plt.close()\n",
    "watch=False\n",
    "image2 = scipy.ndimage.rotate(image, -theta)\n",
    "image2 = image2[100:-100,mid-165:mid+165]\n",
    "image3 = np.zeros((np.shape(image2)[0], np.shape(image2)[1]-130)) # This is the image where the lines aligned according to the center of the st\n",
    "n = np.shape(image2)[0]\n",
    "slope = np.zeros(n)\n",
    "p2p = np.zeros(n)\n",
    "pixel = np.linspace(0,n-1,n)\n",
    "for i in range(n):\n",
    "    y = image2[i,:]\n",
    "    x = np.linspace(0,len(y)-1,len(y))\n",
    "    gmodel = Model(logistic)\n",
    "    result = gmodel.fit(y, x=x, a=0.5, c = .1, d=100, b=0.2)\n",
    "    slope[i] = result.params['c'].value\n",
    "    p2p[i] = result.params['a'].value\n",
    "    # print('i = {}, c={:.3f}'.format(i,result.params['c'].value,np.std(y)))\n",
    "    if watch:\n",
    "#         if n%30==0:\n",
    "        plt.plot(x, y,alpha=0.5)\n",
    "        plt.plot(x, result.best_fit, label='best fit')\n",
    "        plt.show(block=False)\n",
    "        plt.pause(0.05)\n",
    "        plt.close()\n",
    "#         break\n",
    "    cen = int(result.params['d'].value)\n",
    "    image3[i,:] = y[cen-100:cen+100]\n"
   ]
  },
  {
   "cell_type": "markdown",
   "id": "d2e150eb",
   "metadata": {},
   "source": [
    "# Summing over pixels"
   ]
  },
  {
   "cell_type": "code",
   "execution_count": 29,
   "id": "94f059cb",
   "metadata": {
    "scrolled": true
   },
   "outputs": [
    {
     "name": "stdout",
     "output_type": "stream",
     "text": [
      "C:\\Users\\orrbeer\\OneDrive - Technion\\My files\\Shared lab data\\Group members DATA\\Orr\\Layers structure\\x-ray measurements\\EJ296\n"
     ]
    }
   ],
   "source": [
    "print(os.getcwd())\n",
    "plt.subplot(121)\n",
    "plt.imshow(image3, aspect='auto')\n",
    "plt.subplot(122)\n",
    "slices = 20\n",
    "image4 = np.zeros((slices, np.shape(image3)[1]))\n",
    "image4_stdev = np.zeros((slices, np.shape(image3)[1]))\n",
    "for i in range(slices):\n",
    "    one = int(len(image3[:,i])/slices)*i\n",
    "    two = int(len(image3[:,i])/slices)*(i+1)\n",
    "    for j in range(np.shape(image3[one:two])[1]):\n",
    "        image4[i,j] = sum(image3[one:two,j])\n",
    "        image4_stdev[i,j] = np.std(image3[one:two,j])\n",
    "plt.imshow(image4, aspect='auto')\n",
    "# plt.tight_layout()\n",
    "# # slope[slope>(np.average(slope)+3.5*np.std(slope))]=np.average(slope)\n",
    "# plt.savefig(folder + '/roi'+tck+'av_over50.png')\n",
    "plt.show()"
   ]
  },
  {
   "cell_type": "markdown",
   "id": "9fd022df",
   "metadata": {},
   "source": [
    "# Fitting over summed figure"
   ]
  },
  {
   "cell_type": "code",
   "execution_count": 28,
   "id": "11cc6fe2",
   "metadata": {},
   "outputs": [
    {
     "name": "stdout",
     "output_type": "stream",
     "text": [
      "amp; amp_error; slope; slop_error=149\t11\t0.446\t0.031\n"
     ]
    },
    {
     "data": {
      "text/plain": [
       "[<matplotlib.lines.Line2D at 0x29dc528cbc8>]"
      ]
     },
     "execution_count": 28,
     "metadata": {},
     "output_type": "execute_result"
    }
   ],
   "source": [
    "\n",
    "def erfunc(x, mFL, a, b, c):\n",
    "    return mFL*scipy.special.erf((x-a)/(b*np.sqrt(2)))+c\n",
    "watch = True\n",
    "n2 = np.shape(image4)[0]\n",
    "resolution2 = np.zeros(n2)\n",
    "slope2 = np.zeros(n2)\n",
    "slope2std = np.zeros(n2)\n",
    "p2p2 = np.zeros(n2)\n",
    "pixel2 = np.linspace(0,n2-1,n2)\n",
    "watch=False\n",
    "control = {\n",
    "               'CCD_pixel_size': 13e-3,  # in [mm]\n",
    "               'blurKernelSize': 15,\n",
    "               'blurKernelSizePSF': 1,\n",
    "               'blurKernelSizeMTF': 20,\n",
    "               'blurKernelSizeDQE': 2,\n",
    "               'spare': 1,\n",
    "               'nr': n2,\n",
    "               }\n",
    "for i in range(n2):\n",
    "    y = image4[i,:]\n",
    "    x = np.linspace(0,len(y)-1,len(y))\n",
    "    gmodel = Model(logistic)\n",
    "#     result = gmodel.fit(y, x=x, mFL=10, a=100, b = 5, c=30)\n",
    "    gmodel = Model(logistic)\n",
    "    result = gmodel.fit(y, x=x, a=0.5, c = .1, d=100, b=0.2)\n",
    "    slope2[i] = abs(result.params['c'].value)\n",
    "    slope2std[i] =result.params['c'].stderr\n",
    "    p2p2[i] = abs(result.params['a'].value)\n",
    "#     print('i = {}, c={:.3f}'.format(i,result.params['c'].value,np.std(y)))\n",
    "    if watch:\n",
    "        plt.plot(x, y,alpha=0.5)\n",
    "        plt.plot(x, result.best_fit, label='best fit')\n",
    "        plt.show(block=False)\n",
    "        plt.pause(0.05)\n",
    "        plt.close()\n",
    "#     esf_signal = y # [i+400] # \n",
    "#     data, esf, lsf, psf, mtf, dqe = compute_image_characteristics(esf_signal, control)\n",
    "#     resolution2[i] = get_resolution(mtf)\n",
    "#     print(result.fit_report())\n",
    "# fig, ax1 = plt.subplots()\n",
    "\n",
    "sq_size = 100\n",
    "center =int(11*np.shape(image3)[0]/slices)\n",
    "amp = ref[mid-sq_size:mid+sq_size, center-sq_size:center+sq_size]\n",
    "resolution = resolution2[np.argmax(slope2)]\n",
    "plt.figure()\n",
    "print(('amp; amp_error; slope; slop_error={:.0f}\\t{:.0f}\\t{:.3f}\\t{:.3f}'.format\n",
    "          (np.average(amp), np.std(amp),slope2[np.argmin(p2p2)],slope2std[np.argmin(p2p2)])))\n",
    "plt.subplot(311)\n",
    "plt.title('Resolution @ contrast peak={:.0f} \\nAmp={:.0f}+/-{:.0f} \\nslope={:.3f}+/-{:.3f}'.format\n",
    "          (resolution, np.average(amp), np.std(amp),slope2[np.argmin(p2p2)],slope2std[np.argmin(p2p2)]))#,np.average(resolution),np.std(resolution)))\n",
    "\n",
    "plt.plot(pixel2, p2p2, '--or', alpha=0.7)\n",
    "plt.xlabel('Pixel')\n",
    "plt.ylabel('Contrast', color='r')\n",
    "plt.subplot(312)\n",
    "plt.plot(pixel2, slope2, '--og', alpha=0.7)\n",
    "plt.xlabel('Pixel')\n",
    "plt.ylabel('Slope', color='g')\n",
    "plt.subplot(313)\n",
    "plt.ylabel('Resolution', color='k')\n",
    "plt.xlabel('Pixel')\n",
    "plt.plot(pixel2, resolution2, '--ok', alpha=0.7)\n",
    "# plt.savefig(folder+'/fitting_params_'+tck+'av_over50.png')\n"
   ]
  },
  {
   "cell_type": "code",
   "execution_count": null,
   "id": "60b05c65",
   "metadata": {},
   "outputs": [],
   "source": []
  },
  {
   "cell_type": "code",
   "execution_count": 30,
   "id": "f391efc5",
   "metadata": {},
   "outputs": [
    {
     "data": {
      "text/plain": [
       "[<matplotlib.lines.Line2D at 0x29dd54dd788>]"
      ]
     },
     "execution_count": 30,
     "metadata": {},
     "output_type": "execute_result"
    }
   ],
   "source": [
    "plt.subplot(311)\n",
    "plt.title('Resolution @ contrast peak={:.0f} \\nAmp={:.0f}+/-{:.0f} \\slope={:.3f}+/-{:.3f}'.format\n",
    "          (resolution, np.average(amp), np.std(amp),np.min(slope2),slope2std[np.argmax(slope2)]))#,np.average(resolution),np.std(resolution)))\n",
    "plt.plot(pixel2, p2p2, '--or', alpha=0.7)\n",
    "plt.xlabel('Pixel')\n",
    "plt.ylabel('Contrast', color='r')\n",
    "plt.subplot(312)\n",
    "plt.plot(pixel2, slope2, '--og', alpha=0.7)\n",
    "plt.xlabel('Pixel')\n",
    "plt.ylabel('Slope', color='g')\n",
    "plt.subplot(313)\n",
    "plt.ylabel('Resolution', color='k')\n",
    "plt.xlabel('Pixel')\n",
    "plt.plot(pixel2, resolution2, '--ok', alpha=0.7)\n",
    "# plt.savefig(folder+'/fitting_params_'+tck+'av_over50.png')\n"
   ]
  },
  {
   "cell_type": "code",
   "execution_count": 32,
   "id": "5a90984a",
   "metadata": {},
   "outputs": [],
   "source": [
    "plt.close()\n",
    "y = image4[np.argmax(slope2),:]\n",
    "y_err = image4_stdev[np.argmax(slope2),:]\n",
    "y_err = y_err*20\n",
    "x = np.linspace(0,len(y)-1,len(y))\n",
    "gmodel = Model(logistic)\n",
    "result = gmodel.fit(y, x=x, a=0.5, c = .1, d=100, b=0.2)\n",
    "# slope2[i] = abs(result.params['c'].value)\n",
    "# slope2std[i] =result.params['c'].stderr\n",
    "# p2p2[i] = abs(result.params['a'].value)\n",
    "#     print('i = {}, c={:.3f}'.format(i,result.params['c'].value,np.std(y)))\n",
    "# if watch:\n",
    "#         if n%30==0:\n",
    "# y_err = savgol_filter(y_err,5,3)\n",
    "# plt.plot(x, result.best_fit,'w--', label='best fit',linewidth=2)\n",
    "plt.plot(x, y)\n",
    "plt.fill_between(x, result.best_fit-y_err, result.best_fit+y_err, color='gray', alpha=0.3)\n",
    "# plt.axis([0,200,18,41])\n",
    "# plt.legend(['data','fit'])\n",
    "plt.xlabel('Pixel')\n",
    "plt.ylabel('Counts')\n",
    "# plt.savefig('slope.svg',transparent=True)\n",
    "plt.show()"
   ]
  },
  {
   "cell_type": "code",
   "execution_count": 33,
   "id": "bbebeed2",
   "metadata": {},
   "outputs": [],
   "source": [
    "# np.savetxt('6_err.txt', y_err)"
   ]
  },
  {
   "cell_type": "code",
   "execution_count": 34,
   "id": "e95db2cc",
   "metadata": {},
   "outputs": [
    {
     "data": {
      "text/plain": [
       "'C:\\\\Users\\\\orrbeer\\\\OneDrive - Technion\\\\My files\\\\Shared lab data\\\\Group members DATA\\\\Orr\\\\Layers structure\\\\x-ray measurements\\\\EJ296'"
      ]
     },
     "execution_count": 34,
     "metadata": {},
     "output_type": "execute_result"
    }
   ],
   "source": [
    "os.getcwd()"
   ]
  },
  {
   "cell_type": "code",
   "execution_count": 35,
   "id": "8f8de136",
   "metadata": {},
   "outputs": [],
   "source": [
    "# np.savetxt('some_BS_name.txt', ([x,y]))"
   ]
  },
  {
   "cell_type": "code",
   "execution_count": 36,
   "id": "2998d003",
   "metadata": {},
   "outputs": [],
   "source": [
    "plt.imshow(ref)\n",
    "sq_size = 200\n",
    "\n",
    "plt.plot(mid,center,'ro')\n",
    "plt.plot([mid-sq_size,mid-sq_size],[center-sq_size,center+sq_size],'r--')\n",
    "plt.plot([mid+sq_size,mid+sq_size],[center-sq_size,center+sq_size],'r--')\n",
    "plt.plot([mid-sq_size,mid+sq_size],[center+sq_size,center+sq_size],'r--')\n",
    "plt.plot([mid-sq_size,mid+sq_size],[center-sq_size,center-sq_size],'r--')\n",
    "plt.figure()\n",
    "plt.imshow(ref[center-sq_size:center+sq_size,mid-sq_size:mid+sq_size])\n",
    "# plt.plot(mid,center,'ro')\n",
    "plt.show()"
   ]
  },
  {
   "cell_type": "markdown",
   "id": "9d8d8ecb",
   "metadata": {},
   "source": [
    "# Figure for paper"
   ]
  },
  {
   "cell_type": "code",
   "execution_count": 37,
   "id": "990990e4",
   "metadata": {},
   "outputs": [],
   "source": [
    "plt.close()\n",
    "bottom, top, left, right = (530, 670, 505, 605)\n",
    "tck = ['hybrid','6.2','10']\n",
    "for i in range(3):\n",
    "    if os.getcwd().split('\\\\')[-1] == 'Analysis notebook':\n",
    "        os.chdir('../')\n",
    "    folder = '31-28.10 backround removing/Mask-100um/'\n",
    "    os.chdir(folder+tck[i])\n",
    "    data = ['sig.asc', 'ref.asc']\n",
    "    for j in range(2):\n",
    "        with open(data[j], 'r') as the_file:\n",
    "            for line in the_file:\n",
    "                if line.startswith('564.67523'):\n",
    "                    break\n",
    "            for each_line in the_file:    \n",
    "                N = np.array([each_line.split(\",\") for each_line in the_file])\n",
    "        \n",
    "        if j==0:\n",
    "            sig = N[:,1:-1]\n",
    "            sig = np.asfarray(sig)\n",
    "        if j==1:\n",
    "            ref = N[:,1:-1]\n",
    "            ref = np.asfarray(ref)\n",
    "    os.chdir('../../../')\n",
    "    os.getcwd()\n",
    "    im = np.true_divide(sig,ref)\n",
    "    image = np.rot90(im, k=-1) #dark side should be to the left, if not change k switch 1 to -1\n",
    "#     image=scipy.ndimage.gaussian_filter(image, 0.7)#     image=scipy.ndimage.median_filter(image, size=(2,2))\n",
    "    plt.subplot(1,3,i+1)\n",
    "    plt.tick_params(left = False, right = False , labelleft = False, \n",
    "                labelbottom = False, bottom = False)\n",
    "    plt.title(tck[i])\n",
    "    if i == 0:\n",
    "        image = scipy.ndimage.rotate(image, -5)\n",
    "        plt.imshow(image[bottom:top,left+25:right+25],cmap='gray')#, vmin=0.345, vmax=1)\n",
    "\n",
    "    if i == 1:\n",
    "        plt.imshow(image[bottom:top,left:right],cmap='gray')#, vmin=0.345, vmax=1)\n",
    "    if i == 2:\n",
    "        plt.imshow(image[bottom:top,left-65:right-65],cmap='gray')#, vmin=0.345, vmax=1)\n",
    "        \n",
    "        pixelsize = 0.9/1024 #mm The size of a full figure is 1024x1024 pixels and measured to 0.9mm\n",
    "        scalebar_size = 0.03 #mm\n",
    "        scalebar_len = int(scalebar_size/pixelsize)\n",
    "        ax = plt.gca()\n",
    "        rect = Rectangle((60,130), scalebar_len,5, linewidth=1,edgecolor='k',facecolor='k',alpha=0.2)        \n",
    "        ax.add_patch(rect)\n",
    "#     plt.colorbar()\n",
    "plt.show()"
   ]
  },
  {
   "cell_type": "code",
   "execution_count": 39,
   "id": "7a8ff42d",
   "metadata": {},
   "outputs": [
    {
     "data": {
      "text/plain": [
       "34"
      ]
     },
     "execution_count": 39,
     "metadata": {},
     "output_type": "execute_result"
    }
   ],
   "source": [
    "scalebar_len"
   ]
  },
  {
   "cell_type": "code",
   "execution_count": 38,
   "id": "f369cdfb",
   "metadata": {},
   "outputs": [
    {
     "name": "stdout",
     "output_type": "stream",
     "text": [
      "505\n"
     ]
    }
   ],
   "source": [
    "\n",
    "# os.chdir('../')\n",
    "os.getcwd()\n",
    "print(left)\n",
    "plt.close()"
   ]
  },
  {
   "cell_type": "code",
   "execution_count": 40,
   "id": "12e8987f",
   "metadata": {},
   "outputs": [
    {
     "name": "stdout",
     "output_type": "stream",
     "text": [
      "0.7455356085390913\n",
      "0.7215262989368019\n",
      "0.7744126443100439\n"
     ]
    },
    {
     "data": {
      "text/plain": [
       "Text(0, 0.5, 'Counts')"
      ]
     },
     "execution_count": 40,
     "metadata": {},
     "output_type": "execute_result"
    }
   ],
   "source": [
    "plt.close()\n",
    " \n",
    "fig, ax1 = plt.subplots(figsize=(5,4.2))\n",
    "\n",
    "left, bottom, width, height = [0.34, 0.29, 0.52, 0.56]\n",
    "ax2 = fig.add_axes([left, bottom, width, height])\n",
    "\n",
    "# ax1.plot(range(10), color='red')\n",
    "ax2.plot(range(6)[::-1], color='green')\n",
    "\n",
    "plt.show()\n",
    "files = ['hyb_ESF_20_slicemax_mask_100_um','10_um_ESF_20_slicemax_mask_100_um','6.2_um_ESF_20_slicemax_mask_100_um']\n",
    "for i in range(3):\n",
    "    data = np.loadtxt(files[i]+'.txt')\n",
    "    if i == 0:\n",
    "        lbl = 'Hybrid'\n",
    "        clr = 'black'\n",
    "        y0 = 20.37\n",
    "        x0 = 0.417\n",
    "    elif i ==1:\n",
    "        lbl = '10 um \\nuniform'\n",
    "        clr = 'blue'\n",
    "        y0=18.2#18.7\n",
    "        x0 = 0.626\n",
    "    elif i ==2:\n",
    "        lbl = '6.2 um \\nuniform'\n",
    "        clr = 'green'\n",
    "        y0 = 19.2\n",
    "        x0 = 0.480\n",
    "    x = (data[0]-x0)\n",
    "    y = (data[1])-y0\n",
    "    xaxis = [50,150]\n",
    "    gmodel = Model(logistic)\n",
    "    result = gmodel.fit(y[(x>xaxis[0]) & (x<xaxis[1])], x=x[(x>xaxis[0]) & (x<xaxis[1])], a=5, c = .1, d=100, b=0.2)\n",
    "#     result = gmodel.fit(y[(x>79) & (x<121)], x=x[(x>79) & (x<121)], mFL=10, a=100, b = 5, c=0)\n",
    "#     gmodel = Model(logistic)\n",
    "    print(result.params['b'].value)\n",
    "    ax2.plot(x[(x>xaxis[0]) & (x<xaxis[1])], y[(x>xaxis[0]) & (x<xaxis[1])],'.',markersize=5, color = clr, label=lbl)\n",
    "    ax2.plot(x[(x>xaxis[0]) & (x<xaxis[1])], result.best_fit,'--',linewidth=1,color = clr)#, label='best fit')\n",
    "    ax2.set_xlim([92,115])\n",
    "    ax2.set_ylim([0,18])\n",
    "    ax2.legend()\n",
    "#     print(result.fit_report())\n",
    "ax2.set_xlabel('Pixel')\n",
    "ax2.set_ylabel('Counts')\n",
    "    "
   ]
  },
  {
   "cell_type": "code",
   "execution_count": 41,
   "id": "ab98913c",
   "metadata": {},
   "outputs": [
    {
     "data": {
      "text/plain": [
       "Text(0, 0.5, 'Counts')"
      ]
     },
     "execution_count": 41,
     "metadata": {},
     "output_type": "execute_result"
    }
   ],
   "source": [
    "### Delete?\n",
    "\n",
    "plt.close()\n",
    " \n",
    "fig, ax1 = plt.subplots(figsize=(5,4.2))\n",
    "\n",
    "left, bottom, width, height = [0.34, 0.31, 0.52, 0.56]\n",
    "ax2 = fig.add_axes([left, bottom, width, height])\n",
    "\n",
    "# ax1.plot(range(10), color='red')\n",
    "# ax2.plot(range(6)[::-1], color='green')\n",
    "\n",
    "plt.show()\n",
    "files = ['hyb_ESF_20_slicemax_mask_100_um','10_um_ESF_20_slicemax_mask_100_um','6.2_um_ESF_20_slicemax_mask_100_um']\n",
    "for i in range(3):\n",
    "    data = np.loadtxt(files[i]+'.txt')\n",
    "    if i == 0:\n",
    "        lbl = 'Hybrid'\n",
    "        clr = 'black'\n",
    "        y0 = 20.37\n",
    "        x0 = 0.417\n",
    "    elif i == 1:\n",
    "        lbl = '10 um \\nuniform'\n",
    "        clr = 'blue'\n",
    "        y0 = 18.2#18.7\n",
    "        x0 = 0.626\n",
    "    elif i == 2:\n",
    "        lbl = '6.2 um \\nuniform'\n",
    "        clr = 'green'\n",
    "        y0 = 19.2\n",
    "        x0 = 0.480\n",
    "    x = ((data[0]-x0)-92)*0.9e3/1024\n",
    "    y = (data[1])-y0\n",
    "#     ax2.plot(x,y,'.')\n",
    "    xaxis = np.array([50-92,150-92])*0.9e3/1024\n",
    "    gmodel = Model(logistic)\n",
    "    result = gmodel.fit(y[(x>xaxis[0]) & (x<xaxis[1])], x=x[(x>xaxis[0]) & (x<xaxis[1])], a=5, c = .1, d=6, b=0.2)\n",
    "# #     result = gmodel.fit(y[(x>79) & (x<121)], x=x[(x>79) & (x<121)], mFL=10, a=100, b = 5, c=0)\n",
    "# #     gmodel = Model(logistic)\n",
    "#     print(result.params['b'].value)\n",
    "    ax2.plot(x[(x>xaxis[0]) & (x<xaxis[1])], y[(x>xaxis[0]) & (x<xaxis[1])],'.',markersize=5, color = clr, label=lbl)\n",
    "    ax2.plot(x[(x>xaxis[0]) & (x<xaxis[1])], result.best_fit,'--',linewidth=1,color = clr)#, label='best fit')\n",
    "    ax2.set_xlim([0,20])\n",
    "    ax2.set_ylim([0,18])\n",
    "    \n",
    "    ax2.legend()\n",
    "#     print(result.fit_report())\n",
    "ax2.set_xlabel('Distance ($\\mu$m)')\n",
    "ax2.set_ylabel('Counts')"
   ]
  },
  {
   "cell_type": "code",
   "execution_count": 42,
   "id": "09553749",
   "metadata": {
    "scrolled": true
   },
   "outputs": [
    {
     "name": "stdout",
     "output_type": "stream",
     "text": [
      "0\n",
      "1\n",
      "2\n"
     ]
    },
    {
     "name": "stderr",
     "output_type": "stream",
     "text": [
      "C:\\Users\\orrbeer\\Anaconda3\\lib\\site-packages\\ipykernel_launcher.py:26: RuntimeWarning: invalid value encountered in sqrt\n",
      "C:\\Users\\orrbeer\\Anaconda3\\lib\\site-packages\\ipykernel_launcher.py:26: RuntimeWarning: invalid value encountered in true_divide\n"
     ]
    }
   ],
   "source": [
    "### Delete?\n",
    "\n",
    "def running_mean(x, N):\n",
    "    cumsum = np.cumsum(np.insert(x, 0, 0)) \n",
    "    return (cumsum[N:] - cumsum[:-N]) / float(N)\n",
    "files = ['hyb_ESF_20_slicemax_mask_100_um','10_ESF_6_slice10_mask_100_um','6.2_um_ESF_20_slicemax_mask_100_um']\n",
    "for i in range(3):\n",
    "    data = np.loadtxt(files[i]+'.txt')\n",
    "    if i == 0:\n",
    "        lbl = 'Hybrid'\n",
    "        clr = 'black'\n",
    "        y0 = 20.37\n",
    "        x0 = 0.417\n",
    "    elif i ==1:\n",
    "        lbl = '10 um \\nuniform'\n",
    "        clr = 'blue'\n",
    "        y0=18.5\n",
    "        x0 = 0.6266\n",
    "    elif i ==2:\n",
    "        lbl = '6.2 um \\nuniform'\n",
    "        clr = 'green'\n",
    "        y0 = 19.28\n",
    "        x0 = 0.480\n",
    "    x = data[0]\n",
    "    y = (data[1])\n",
    "    control = {\n",
    "           'CCD_pixel_size': 13e-3,  # in [mm]\n",
    "           'blurKernelSize': 1,\n",
    "           'blurKernelSizePSF': 1,\n",
    "           'blurKernelSizeMTF': 1,\n",
    "           'blurKernelSizeDQE': 1,\n",
    "           'spare': 1,\n",
    "           'nr': 200,\n",
    "           }\n",
    "    data = np.loadtxt(files[i]+'.txt')\n",
    "    y = savgol_filter(data[1],15,6)\n",
    "    data, esf, lsf, psf, mtf, dqe = compute_image_characteristics(y, control)\n",
    "    ax1.plot(mtf[:,0],mtf[:,1]/max(mtf[:,1]),color = clr, alpha=0.7, label=lbl)\n",
    "    ax1.set_ylim([0,1.05])\n",
    "    ax1.set_xlim([0,200])\n",
    "    ax1.set_xlabel('Lines/pixel')\n",
    "    ax1.set_ylabel('Norm MTF')\n",
    "    ax1.set_xticks([0, 50, 100, 150, 200])\n",
    "    print(i)\n",
    "# plt.tight_layout()\n",
    "plt.show()\n"
   ]
  },
  {
   "cell_type": "code",
   "execution_count": 43,
   "id": "e0771352",
   "metadata": {},
   "outputs": [
    {
     "data": {
      "text/plain": [
       "Text(0.5, 1.0, 'Original image')"
      ]
     },
     "execution_count": 43,
     "metadata": {},
     "output_type": "execute_result"
    }
   ],
   "source": [
    "# Move to another file\n",
    "# plt.close()\n",
    "plt.figure()\n",
    "from lmfit.models import GaussianModel\n",
    "import PIL\n",
    "mFL = [8.81, 8.18, 7.75]\n",
    "a   = [100.01, 100.04, 100.02]\n",
    "b   = [3.81, 4.86, 3.44] \n",
    "c   = [8.83, 8.23, 7.77]\n",
    "zeva = ['k','b','g']\n",
    "\n",
    "## This block prove that b = sigma of \n",
    "# x = np.linspace(75,125,200)\n",
    "# for i in range(3):\n",
    "#     plt.plot(x, erfunc(x,mFL[i],a[i],b[i],c[i]),color=zeva[i])\n",
    "#     y = np.gradient(erfunc(x,mFL[i],a[i],b[i],c[i]))/np.gradient(x)\n",
    "#     plt.plot(x,y,'--',color=zeva[i])\n",
    "#     mod = GaussianModel()\n",
    "#     pars = mod.guess(y, x=x)\n",
    "#     out = mod.fit(y, pars, x=x)\n",
    "#     plt.plot(x,out.best_fit,color=zeva[i])\n",
    "#     print(out.fit_report(min_correl=0.25))\n",
    "import matplotlib.image\n",
    "logo = np.zeros((1024,1024))\n",
    "logo = plt.imread('Analysis notebook/Technion_logo.png')\n",
    "y=20\n",
    "x=20\n",
    "\n",
    "plt.subplot(132)\n",
    "sigma=3.81*4\n",
    "logo1 =  scipy.ndimage.gaussian_filter(logo, (sigma,sigma,-1))\n",
    "plt.imshow(logo1)#, cmap='gray')\n",
    "plt.tick_params(left = False, right = False , labelleft = False, \n",
    "                labelbottom = False, bottom = False)\n",
    "plt.title('Imaging with hybrid scintillator')\n",
    "plt.subplot(133)\n",
    "sigma=4.86*4\n",
    "logo2 =  scipy.ndimage.gaussian_filter(logo, (sigma,sigma,0))\n",
    "plt.imshow(logo2)#, cmap='gray')\n",
    "plt.tick_params(left = False, right = False , labelleft = False, \n",
    "                labelbottom = False, bottom = False)\n",
    "plt.title('Imaging with uniform scintillator\\nwith equivalent intensity')\n",
    "logo[1850:1900,50:250]=[0, 0, 0, 1]\n",
    "plt.subplot(131)\n",
    "plt.imshow(logo)#, cmap='gray')\n",
    "# plt.axis([512-x,512+x,512-y,512+y])\n",
    "plt.tick_params(left = False, right = False , labelleft = False, \n",
    "                labelbottom = False, bottom = False)\n",
    "plt.title('Original image')"
   ]
  },
  {
   "cell_type": "code",
   "execution_count": 44,
   "id": "0492199e",
   "metadata": {},
   "outputs": [],
   "source": [
    "os.getcwd()\n",
    "os.chdir(r'C:\\Users\\orrbeer\\OneDrive - Technion\\My files\\Shared lab data\\Group members DATA\\Orr\\Layers structure\\x-ray measurements\\EJ296')"
   ]
  },
  {
   "cell_type": "code",
   "execution_count": 45,
   "id": "9bcbbfda",
   "metadata": {},
   "outputs": [
    {
     "name": "stdout",
     "output_type": "stream",
     "text": [
      "Pixel size = 9.765625e-05 m\n"
     ]
    }
   ],
   "source": [
    "print ('Pixel size = {} m'.format(0.5e-3/1024*200))"
   ]
  },
  {
   "cell_type": "markdown",
   "id": "004c2c7a",
   "metadata": {},
   "source": [
    "# Silverfish"
   ]
  },
  {
   "cell_type": "code",
   "execution_count": 46,
   "id": "e7f1d979",
   "metadata": {},
   "outputs": [],
   "source": [
    "from matplotlib.patches import Rectangle\n",
    "plt.figure(figsize=(8,3))\n",
    "os.chdir('15.01.2023 - silverfish')\n",
    "im = ['hyb200','uni6_2um']\n",
    "for i in range(2):\n",
    "    image = np.loadtxt('silverfish_'+im[i])\n",
    "    plt.subplot(1,2,i+1)\n",
    "    \n",
    "    plt.gca().axes.get_xaxis().set_visible(False)\n",
    "    plt.gca().axes.get_yaxis().set_visible(False)\n",
    "    if i == 0:\n",
    "        plt.title('6 $\\mu m$ heterostructure scintillator')\n",
    "        image = image-.48\n",
    "    if i == 1:\n",
    "        image = image-.98\n",
    "        plt.title('6.2 $\\mu m$ uniform scintillator')\n",
    "        image=np.rot90(image,k=2)\n",
    "#         plt.axis([144,494,58,425])\n",
    "        pixelsize = 2.54 #um\n",
    "        scalebar_size = 500 #um\n",
    "        scalebar_len = int(scalebar_size/pixelsize)\n",
    "        ax = plt.gca()\n",
    "        rect = Rectangle((800,920), scalebar_len, 50, linewidth=1,edgecolor='k',facecolor='k',alpha=0.1)\n",
    "    if i == 2:\n",
    "        plt.title('6.2 $\\mu m$ uniform scintillator')\n",
    "        image=np.rot90(image,k=2)\n",
    "    plt.imshow(image, cmap='gray')#, vmin =0.3 , vmax = 1.2)\n",
    "    \n",
    "\n",
    "# Add the patch to the Axes\n",
    "    ax.add_patch(rect)\n",
    "    plt.matplotlib.pyplot.colorbar()\n",
    "    plt.tight_layout()\n",
    "os.chdir('../')"
   ]
  },
  {
   "cell_type": "code",
   "execution_count": 47,
   "id": "16aa1105",
   "metadata": {},
   "outputs": [
    {
     "data": {
      "text/plain": [
       "[100.01, 100.04, 100.02]"
      ]
     },
     "execution_count": 47,
     "metadata": {},
     "output_type": "execute_result"
    }
   ],
   "source": [
    "combined_data = np.array([a, b, c])\n",
    "#Get the min and max of all your data\n",
    "_min, _max = np.amin(combined_data), np.amax(combined_data)\n",
    "a"
   ]
  },
  {
   "cell_type": "code",
   "execution_count": 48,
   "id": "70f6ddd1",
   "metadata": {},
   "outputs": [],
   "source": [
    "# os.chdir('15.01.2023 - silverfish')\n",
    "os.chdir('15.01.2023 - silverfish')\n",
    "# if os.getcwd().split('\\\\')[-1] == 'Analysis notebook':\n",
    "#     os.chdir('../')\n",
    "# folder = '15.01.2023 - silverfish'\n",
    "# os.chdir(folder)\n",
    "data = 'silverfishvis.asc'\n",
    "with open(data, 'r') as the_file:\n",
    "    for line in the_file:\n",
    "        if line.startswith('564.67523'):\n",
    "            break\n",
    "    for each_line in the_file:    \n",
    "        N = np.array([each_line.split(\",\") for each_line in the_file])\n",
    "    im = np.asfarray(N[:,1:-1])\n",
    "os.chdir('../')"
   ]
  },
  {
   "cell_type": "code",
   "execution_count": 49,
   "id": "6df4a1a4",
   "metadata": {},
   "outputs": [],
   "source": [
    "plt.close()\n",
    "im=np.rot90(im,k=1)\n",
    "plt.imshow(im, cmap='gray')\n",
    "plt.show()"
   ]
  },
  {
   "cell_type": "markdown",
   "id": "0e722873",
   "metadata": {},
   "source": [
    "# Adding DQE"
   ]
  },
  {
   "cell_type": "code",
   "execution_count": 50,
   "id": "64959343",
   "metadata": {},
   "outputs": [
    {
     "name": "stdout",
     "output_type": "stream",
     "text": [
      "Uniform layer x-ray absorption: [0.00033773 0.00054467]\n",
      "hybrid x-ray absorption: 0.0013608850269171135\n"
     ]
    }
   ],
   "source": [
    "## X-ray absorbption ##\n",
    "Ti_mu_over_rho_20keV = 1.585E+01\n",
    "O_mu_over_rho_20keV  = 8.651E-01\n",
    "Cl_mu_over_rho_20keV = 7.739E+00\n",
    "C_mu_over_rho_20keV  = 4.420E-01\n",
    "H_mu_over_rho_20keV  = 3.695E-01\n",
    "\n",
    "# Ti_mu_over_rho_10keV = 1.107E+02\n",
    "# O_mu_over_rho_10keV  = 5.952E+00\n",
    "# Cl_mu_over_rho_10keV = 5.725E+01\n",
    "# C_mu_over_rho_10keV  = 2.373E+00\n",
    "# H_mu_over_rho_10keV  = 3.854E-01\n",
    "\n",
    "# TiOx in PVAl wt% in the 30wt% samples\n",
    "Ti_wt = 31.4/100\n",
    "O_wt  = 36.6/100\n",
    "Cl_wt = 6.0 /100\n",
    "C_wt  = 26.0/100\n",
    "# mu_over_rho \\Sigma_i w_i * mu_over_rho_i\n",
    "mu_over_rho_TiOxPVA = (Ti_wt*Ti_mu_over_rho_20keV + O_wt*O_mu_over_rho_20keV +\n",
    "                       Cl_wt*Cl_mu_over_rho_20keV + C_wt*C_mu_over_rho_20keV)\n",
    "rho_TiOxPVA = 1.95\n",
    "# PVT wt fraction (C9H10)\n",
    "C_at_mass = 12\n",
    "H_at_mass = 1\n",
    "C_wt =  9/19*C_at_mass/(9/19*C_at_mass+10/19*H_at_mass)\n",
    "H_wt = 10/19*H_at_mass/(9/19*C_at_mass+10/19*H_at_mass)\n",
    "mu_over_rho_PVT = C_wt*C_mu_over_rho_20keV + H_wt*H_mu_over_rho_20keV\n",
    "\n",
    "rho_PVT = 1.25\n",
    "\n",
    "t_uniforms = np.array([6.2e-4, 10e-4]) # thicknesses of uniform layers in cm\n",
    "rel_abs_uniforms = 1-np.exp(-t_uniforms*mu_over_rho_PVT*rho_PVT)\n",
    "\n",
    "rho_TiOxPVA = 1.855\n",
    "t_TiOxPVA = 200e-7 # thicknesses of single TiOxPVA layers in cm\n",
    "t_PVT = 1000e-7 # the thickness of single layer of PVT scintillator in all of the samples.\n",
    "rel_abs_hybrids = 1-np.exp(-5*(t_TiOxPVA*mu_over_rho_TiOxPVA*rho_TiOxPVA+\n",
    "                    t_PVT*mu_over_rho_PVT*rho_PVT))\n",
    "print(\"Uniform layer x-ray absorption: {}\".format(rel_abs_uniforms))\n",
    "print(\"hybrid x-ray absorption: {}\".format(rel_abs_hybrids))"
   ]
  },
  {
   "cell_type": "code",
   "execution_count": 51,
   "id": "d3c396ad",
   "metadata": {},
   "outputs": [
    {
     "name": "stderr",
     "output_type": "stream",
     "text": [
      "C:\\Users\\orrbeer\\Anaconda3\\lib\\site-packages\\ipykernel_launcher.py:26: RuntimeWarning: invalid value encountered in sqrt\n",
      "C:\\Users\\orrbeer\\Anaconda3\\lib\\site-packages\\ipykernel_launcher.py:26: RuntimeWarning: invalid value encountered in true_divide\n",
      "No artists with labels found to put in legend.  Note that artists whose label start with an underscore are ignored when legend() is called with no argument.\n"
     ]
    },
    {
     "ename": "TypeError",
     "evalue": "mtf2dqe2() got an unexpected keyword argument 'blurKernelSizeDQE'",
     "output_type": "error",
     "traceback": [
      "\u001b[1;31m---------------------------------------------------------------------------\u001b[0m",
      "\u001b[1;31mTypeError\u001b[0m                                 Traceback (most recent call last)",
      "\u001b[1;32m~\\AppData\\Local\\Temp\\ipykernel_93704\\626050323.py\u001b[0m in \u001b[0;36m<module>\u001b[1;34m\u001b[0m\n\u001b[0;32m     85\u001b[0m \u001b[1;33m\u001b[0m\u001b[0m\n\u001b[0;32m     86\u001b[0m \u001b[1;33m\u001b[0m\u001b[0m\n\u001b[1;32m---> 87\u001b[1;33m     \u001b[0mdqe\u001b[0m \u001b[1;33m=\u001b[0m \u001b[0mmtf2dqe2\u001b[0m\u001b[1;33m(\u001b[0m\u001b[0mmtf\u001b[0m\u001b[1;33m[\u001b[0m\u001b[1;33m:\u001b[0m\u001b[1;33m,\u001b[0m\u001b[1;36m1\u001b[0m\u001b[1;33m]\u001b[0m\u001b[1;33m,\u001b[0m \u001b[0mx_ray_abs\u001b[0m\u001b[1;33m,\u001b[0m\u001b[0msl_thickness\u001b[0m\u001b[1;33m,\u001b[0m\u001b[0mblurKernelSizeDQE\u001b[0m\u001b[1;33m=\u001b[0m\u001b[1;36m1\u001b[0m\u001b[1;33m)\u001b[0m\u001b[1;33m\u001b[0m\u001b[1;33m\u001b[0m\u001b[0m\n\u001b[0m\u001b[0;32m     88\u001b[0m     \u001b[0max3\u001b[0m\u001b[1;33m.\u001b[0m\u001b[0mplot\u001b[0m\u001b[1;33m(\u001b[0m\u001b[0mx\u001b[0m\u001b[1;33m,\u001b[0m\u001b[0msavgol_filter\u001b[0m\u001b[1;33m(\u001b[0m\u001b[0mdqe\u001b[0m\u001b[1;33m,\u001b[0m\u001b[1;36m9\u001b[0m\u001b[1;33m,\u001b[0m\u001b[1;36m1\u001b[0m\u001b[1;33m)\u001b[0m\u001b[1;33m,\u001b[0m\u001b[0mcolor\u001b[0m \u001b[1;33m=\u001b[0m \u001b[0mclr\u001b[0m\u001b[1;33m,\u001b[0m \u001b[0malpha\u001b[0m\u001b[1;33m=\u001b[0m\u001b[1;36m0.7\u001b[0m\u001b[1;33m,\u001b[0m \u001b[0mlabel\u001b[0m\u001b[1;33m=\u001b[0m\u001b[0mlbl\u001b[0m\u001b[1;33m)\u001b[0m\u001b[1;33m\u001b[0m\u001b[1;33m\u001b[0m\u001b[0m\n\u001b[0;32m     89\u001b[0m     \u001b[0max3\u001b[0m\u001b[1;33m.\u001b[0m\u001b[0mset_xlabel\u001b[0m\u001b[1;33m(\u001b[0m\u001b[1;34m'Lines/mm'\u001b[0m\u001b[1;33m)\u001b[0m\u001b[1;33m\u001b[0m\u001b[1;33m\u001b[0m\u001b[0m\n",
      "\u001b[1;31mTypeError\u001b[0m: mtf2dqe2() got an unexpected keyword argument 'blurKernelSizeDQE'"
     ]
    }
   ],
   "source": [
    "control = {\n",
    "           'CCD_pixel_size': 0.0008789,  # in [mm]\n",
    "           'blurKernelSize': 1,\n",
    "           'blurKernelSizePSF': 1,\n",
    "           'blurKernelSizeMTF': 1,\n",
    "           'blurKernelSizeDQE': 1,\n",
    "           'spare': 1,\n",
    "           'nr': 200,\n",
    "           }\n",
    "plt.close()\n",
    "fig = plt.figure(figsize=[8, 4])\n",
    "ax1 = fig.add_subplot(141)\n",
    "ax2 = fig.add_subplot(142)\n",
    "ax3 = fig.add_subplot(143)\n",
    "files = ['hyb_ESF_20_slicemax_mask_100_um','10_um_ESF_20_slicemax_mask_100_um','6.2_um_ESF_20_slicemax_mask_100_um']\n",
    "files_err = ['hyb_err','10_err','6_err']\n",
    "for i in range(3):\n",
    "    data = np.loadtxt(files[i]+'.txt')\n",
    "    data_err = np.loadtxt(files_err[i]+'.txt')\n",
    "    if i == 0:\n",
    "        lbl = 'Hetero-\\nstructure'\n",
    "        clr = 'black'\n",
    "        y0 = 20.37\n",
    "        x0 = 0.417\n",
    "        x_ray_abs = 0.00136\n",
    "        sl_thickness = 0.2\n",
    "    elif i == 1:\n",
    "        lbl = '10 um \\nhomogeneous'\n",
    "        clr = 'blue'\n",
    "        y0 = 18.2#18.7\n",
    "        x0 = 0.626\n",
    "        x_ray_abs = 0.000545\n",
    "        sl_thickness = 0\n",
    "    elif i == 2:\n",
    "        lbl = '6.2 um \\nhomogeneous'\n",
    "        clr = 'green'\n",
    "        y0 = 19.2\n",
    "        x0 = 0.480\n",
    "        x_ray_abs = 0.000338\n",
    "        sl_thickness = 0\n",
    "        \n",
    "    x = ((data[0]-x0)-92)*0.9e3/1024\n",
    "    y = (data[1])-y0\n",
    "    y_err = data_err\n",
    "    xaxis = np.array([50-92,150-92])*0.9e3/1024\n",
    "    gmodel = Model(logistic)\n",
    "    result = gmodel.fit(y[(x>xaxis[0]) & (x<xaxis[1])], x=x[(x>xaxis[0]) & (x<xaxis[1])], a=5, c = .1, d=6, b=0.2)\n",
    "# #     result = gmodel.fit(y[(x>79) & (x<121)], x=x[(x>79) & (x<121)], mFL=10, a=100, b = 5, c=0)\n",
    "# #     gmodel = Model(logistic)\n",
    "#     print(result.params['b'].value)\n",
    "    \n",
    "    ax1.plot(x[(x>xaxis[0]) & (x<xaxis[1])], y[(x>xaxis[0]) & (x<xaxis[1])]\n",
    "             ,'.', markersize=5 , color = clr, label=lbl, alpha = 0.8)\n",
    "    ax1.plot(x[(x>xaxis[0]) & (x<xaxis[1])], result.best_fit,'--',linewidth=1,color = clr)#, label='best fit')\n",
    "    ax1.fill_between(x[(x>xaxis[0]) & (x<xaxis[1])], result.best_fit-y_err[(x>xaxis[0]) & (x<xaxis[1])],\n",
    "                     result.best_fit+y_err[(x>xaxis[0]) & (x<xaxis[1])], color=clr, alpha=0.1)\n",
    "    ax1.set_xlim([0,20])\n",
    "    ax1.set_ylim([0,18])\n",
    "    ax1.set_xlabel('Distance ($\\mu$m)')\n",
    "    ax1.set_ylabel('Counts (a.u.)')\n",
    "    \n",
    "    \n",
    "    \n",
    "    x = data[0]\n",
    "    y = (data[1])\n",
    "    data = np.loadtxt(files[i]+'.txt')\n",
    "    y = savgol_filter(data[1],15,6)\n",
    "    dy =  abs(np.gradient(y[:-6],x[1]-x[0]))\n",
    "    data, esf, lsf, psf, mtf, dqe = compute_image_characteristics(y, control)\n",
    "    x = mtf[:,0] # The units of mtf[:,0] is lines/pixels. The value 1024/0.9e3 is pixels per um\n",
    "    dx = x[1]-x[0]\n",
    "    norm_mtf = mtf[:,1]/max(mtf[:,1])\n",
    "#     norm_mtf = savgol_filter(norm_mtf,5,1)\n",
    "    d_mtf =  abs(np.gradient(norm_mtf))\n",
    "    dy_mtf =  abs(d_mtf/dy)\n",
    "    err_mtf = abs(dy_mtf*y_err[6:])\n",
    "#     ax2.plot(x,norm_mtf,color = clr, alpha=0.7, label=lbl)\n",
    "#     ax2.fill_between(x, norm_mtf-err_mtf,norm_mtf+err_mtf, color=clr, alpha=0.1)\n",
    "    ax2.plot(x, savgol_filter(err_mtf,15,1), color=clr, alpha=0.5)\n",
    "    ax2.set_ylim([0,1.4])\n",
    "    ax2.set_xlim([0,300])\n",
    "    ax2.set_xlabel('Lines/mm')\n",
    "    ax2.set_ylabel('MTF (Norm.)')\n",
    "    ax2.legend(frameon=False) # \n",
    "    \n",
    "    \n",
    "    dqe = mtf2dqe2(mtf[:,1], x_ray_abs,sl_thickness,blurKernelSizeDQE=1)\n",
    "    ax3.plot(x,savgol_filter(dqe,9,1),color = clr, alpha=0.7, label=lbl)\n",
    "    ax3.set_xlabel('Lines/mm')\n",
    "    ax3.set_ylabel('DQE')\n",
    "    ax3.set_xlim([0,300])\n",
    "# The units of mtf[:,0] is lines/pixels. The value 1024/0.9e3 is pixels per um\n",
    "ETF = [732, 507, 357, 263]\n",
    "ETF_err = [13, 22, 35, 69]\n",
    "intensity = [93, 118, 146, 188]\n",
    "intensity_err = [11 ,11 ,12 ,12]\n",
    "ETFh = 481\n",
    "ETFh_err = 30\n",
    "inth = 149\n",
    "inth_err =11\n",
    "ax4 = fig.add_subplot(144)\n",
    "ax4.errorbar(x=ETF, y=intensity, xerr=ETF_err, yerr=intensity_err, linestyle='',fmt='.',markersize=10, \n",
    "             markeredgecolor='tab:blue', markerfacecolor=(0, 0.1, 0.2, 0.3))\n",
    "ax4.errorbar(x=ETFh, y=inth, xerr=ETFh_err, yerr=inth_err,fmt='.',markersize=10, \n",
    "             markeredgecolor='tab:orange', markerfacecolor=(0.3, 0.1, 0.1, 0.3))\n",
    "\n",
    "x=np.linspace(150,800,200)\n",
    "y = 8246.5*x**(-0.683)\n",
    "ax4.plot(x,y,'--',color='tab:blue', alpha=0.8)\n",
    "ax4.set_xlim([150,800])\n",
    "ax4.set_ylabel('Intensity (a.u.)')\n",
    "ax4.set_xlabel('ESF slope (mm$^{-1}$)')\n",
    "# secx = ax4.secondary_xaxis('top')\n",
    "# secx.set_xticks([728.2, 512, 364.1, 318.6])\n",
    "# secx.set_xticklabels([3.8, 6.2, 10, 15], fontsize=10)#, rotation=10)\n",
    "# secx.set_xlabel('Volume of\\n stopping layer (%)', fontsize=14)\n",
    "# plt.tight_layout()\n",
    "\n",
    "plt.show()"
   ]
  },
  {
   "cell_type": "code",
   "execution_count": null,
   "id": "b653917b",
   "metadata": {},
   "outputs": [],
   "source": [
    "os.getcwd()\n",
    "# plt.close()\n",
    "# order = 1\n",
    "# window = 15\n",
    "# plt.plot(savgol_filter(y_err,window, order),label='yerr')\n",
    "# plt.plot(savgol_filter(dy,window, order),label='dy')\n",
    "# plt.plot(savgol_filter(d_mtf,window, order),label='dmtf')\n",
    "# plt.plot(savgol_filter(d_mtf,window, order)*savgol_filter(y_err[0:-6],window, order)/savgol_filter(dy,window, order))\n",
    "len(x)"
   ]
  },
  {
   "cell_type": "code",
   "execution_count": null,
   "id": "db6642e4",
   "metadata": {},
   "outputs": [],
   "source": [
    "lbl = ['Hybrid','10 um \\nuniform', '6.2 um \\nuniform']\n",
    "clr = ['black', 'blue', 'green']\n",
    "fig = plt.figure()\n",
    "ax2 = fig.add_subplot(111)\n",
    "ax2.plot([0,300],[0.1,0.1],'m--',label='10% MTF')\n",
    "for i in range(3):\n",
    "    data = np.loadtxt(files[i]+'.txt')\n",
    "    \n",
    "    x = data[0]\n",
    "    y = (data[1])\n",
    "    data = np.loadtxt(files[i]+'.txt')\n",
    "    y = savgol_filter(data[1],15,6)\n",
    "    data, esf, lsf, psf, mtf, dqe = compute_image_characteristics(y, control)\n",
    "    x = mtf[:,0] # The units of mtf[:,0] is lines/pixels. The value 1024/0.9e3 is pixels per um\n",
    "    ax2.plot(x,mtf[:,1]/max(mtf[:,1]),color = clr[i], alpha=0.7, label=lbl[i])\n",
    "    ax2.set_ylim([0,1.05])\n",
    "    ax2.set_xlim([0,300])\n",
    "    ax2.set_xlabel('Lines/mm')\n",
    "    ax2.set_ylabel('MTF (Norm.)')\n",
    "    ax2.legend(frameon=False) # \n"
   ]
  },
  {
   "cell_type": "code",
   "execution_count": null,
   "id": "83019e4d",
   "metadata": {},
   "outputs": [],
   "source": [
    "os.chdir('EJ296') #EJ296"
   ]
  },
  {
   "cell_type": "code",
   "execution_count": null,
   "id": "bb8297f2",
   "metadata": {},
   "outputs": [],
   "source": [
    "def mtf2dqe2(mtf, xray_absorption, sl_thickness, blurKernelSizeDQE):\n",
    "    T2 = np.abs(mtf / 100)**2\n",
    "    g1 = xray_absorption\n",
    "    \n",
    "    # Conversion from xray to electrons, similar to all structures\n",
    "    g2 = 1.\n",
    "\n",
    "    # The secondary electrons that reach the scintillator are converted to light\n",
    "    electronic_absorption = 10.7 # 1/um\n",
    "    N = 1001\n",
    "    depths = np.linspace(0, sl_thickness, N)\n",
    "    reaching_electrons = np.exp(-electronic_absorption * depths) # The amound of electrons reaching the scintillator from a each depth\n",
    "    g3 = np.sum(reaching_electrons) * (1/N)\n",
    "    \n",
    "    # The scintillation yield in hybrid structures is fixed\n",
    "    scintillation_yield = 9 # 1/keV\n",
    "    electron_energy = 22 # keV\n",
    "    g4 = electron_energy * scintillation_yield\n",
    "\n",
    "    dqe = 1 / (1 + (1-g1)/g1 + 1/(g1*g2) + (1-g3)/(g1*g2*g3) + 1/(g1*g2*g3*g4) + (1-T2)/(g1*g2*g3*g4*T2))\n",
    "    dqe = 100 * dqe#savgol_filter(dqe, blurKernelSizeDQE, 1)\n",
    "    return dqe"
   ]
  },
  {
   "cell_type": "code",
   "execution_count": null,
   "id": "1b03ad86",
   "metadata": {},
   "outputs": [],
   "source": [
    "mtf2dqe(mtf,0.00136,3)"
   ]
  },
  {
   "cell_type": "code",
   "execution_count": null,
   "id": "890787e4",
   "metadata": {},
   "outputs": [],
   "source": [
    "ETF = [728.2, 512, 364.1, 318.6] \n",
    "intensity = [93, 118, 146, 188]\n",
    "ETFh = 455.1\n",
    "inth = 150\n",
    "# plt.subplot(144)\n",
    "plt.plot(ETF, intensity,'r')\n",
    "plt.plot(ETFh, inth,'b')\n",
    "plt.tight_layout()\n"
   ]
  },
  {
   "cell_type": "code",
   "execution_count": null,
   "id": "69139126",
   "metadata": {},
   "outputs": [],
   "source": [
    "pfolder = '970'\n",
    "# folder = '31-28.10 backround removing/Different_stopping/'+tck\n",
    "# folder = '05.12.2023 - Cu source/'\n",
    "os.chdir(pfolder)\n",
    "\n",
    "# s = 'hyb_silverfish_ref.asc' # mask-100um is '.asc' and mask-400um is '.txt'\n",
    "r = 'ref.asc'\n",
    "\n",
    "with open(r, 'r') as the_file:\n",
    "    for line in the_file:\n",
    "        if line.startswith('564.67523'):\n",
    "            break\n",
    "    for each_line in the_file:    \n",
    "        N = np.array([each_line.split(\",\") for each_line in the_file])\n",
    "ref = N[:,1:-1]\n",
    "ref = np.asfarray(ref)\n",
    "plt.imshow(ref,cmap='gray')"
   ]
  },
  {
   "cell_type": "code",
   "execution_count": null,
   "id": "c435d347",
   "metadata": {},
   "outputs": [],
   "source": [
    "os.chdir('../')"
   ]
  },
  {
   "cell_type": "code",
   "execution_count": null,
   "id": "2570b6b4",
   "metadata": {},
   "outputs": [],
   "source": [
    "os.getcwd()\n"
   ]
  },
  {
   "cell_type": "code",
   "execution_count": null,
   "id": "0d9528b5",
   "metadata": {},
   "outputs": [],
   "source": []
  }
 ],
 "metadata": {
  "kernelspec": {
   "display_name": "Python 3",
   "language": "python",
   "name": "python3"
  },
  "language_info": {
   "codemirror_mode": {
    "name": "ipython",
    "version": 3
   },
   "file_extension": ".py",
   "mimetype": "text/x-python",
   "name": "python",
   "nbconvert_exporter": "python",
   "pygments_lexer": "ipython3",
   "version": "3.7.6"
  }
 },
 "nbformat": 4,
 "nbformat_minor": 5
}
